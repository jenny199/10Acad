{
  "nbformat": 4,
  "nbformat_minor": 0,
  "metadata": {
    "colab": {
      "name": "pharmaceutical_sales1.ipynb",
      "provenance": [],
      "collapsed_sections": []
    },
    "kernelspec": {
      "name": "python3",
      "display_name": "Python 3"
    }
  },
  "cells": [
    {
      "cell_type": "code",
      "metadata": {
        "id": "Ms2GMiP3AK4q",
        "colab_type": "code",
        "colab": {
          "base_uri": "https://localhost:8080/",
          "height": 71
        },
        "outputId": "92268e59-0646-4ab2-ae13-fa3993471b5f"
      },
      "source": [
        "# warnings.filterwarnings(\"ignore\")\n",
        "#Data Manipulation and Treatment\n",
        "import numpy as np\n",
        "import pandas as pd\n",
        "from datetime import datetime\n",
        "#Plotting and Visualizations\n",
        "import matplotlib.pyplot as plt\n",
        "%matplotlib inline \n",
        "import seaborn as sns\n",
        "from scipy import stats\n",
        "import itertools\n",
        "#Scikit-Learn for Modeling\n",
        "from sklearn import model_selection\n",
        "from sklearn.ensemble import RandomForestRegressor\n",
        "from sklearn import metrics\n",
        "import xgboost as xgb"
      ],
      "execution_count": 1,
      "outputs": [
        {
          "output_type": "stream",
          "text": [
            "/usr/local/lib/python3.6/dist-packages/statsmodels/tools/_testing.py:19: FutureWarning: pandas.util.testing is deprecated. Use the functions in the public API at pandas.testing instead.\n",
            "  import pandas.util.testing as tm\n"
          ],
          "name": "stderr"
        }
      ]
    },
    {
      "cell_type": "markdown",
      "metadata": {
        "id": "Bab4xLnmMQfN",
        "colab_type": "text"
      },
      "source": [
        "Load Dataset"
      ]
    },
    {
      "cell_type": "code",
      "metadata": {
        "id": "K5oSoJ4XMcTD",
        "colab_type": "code",
        "colab": {
          "resources": {
            "http://localhost:8080/nbextensions/google.colab/files.js": {
              "data": "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",
              "ok": true,
              "headers": [
                [
                  "content-type",
                  "application/javascript"
                ]
              ],
              "status": 200,
              "status_text": ""
            }
          },
          "base_uri": "https://localhost:8080/",
          "height": 140
        },
        "outputId": "d86e6224-7841-48a5-b5b4-2122af656779"
      },
      "source": [
        "from google.colab import files\n",
        "uploaded = files.upload()"
      ],
      "execution_count": 2,
      "outputs": [
        {
          "output_type": "display_data",
          "data": {
            "text/html": [
              "\n",
              "     <input type=\"file\" id=\"files-05c709ad-b213-49c8-8986-546db7fdd58d\" name=\"files[]\" multiple disabled\n",
              "        style=\"border:none\" />\n",
              "     <output id=\"result-05c709ad-b213-49c8-8986-546db7fdd58d\">\n",
              "      Upload widget is only available when the cell has been executed in the\n",
              "      current browser session. Please rerun this cell to enable.\n",
              "      </output>\n",
              "      <script src=\"/nbextensions/google.colab/files.js\"></script> "
            ],
            "text/plain": [
              "<IPython.core.display.HTML object>"
            ]
          },
          "metadata": {
            "tags": []
          }
        },
        {
          "output_type": "stream",
          "text": [
            "Saving store.csv to store.csv\n",
            "Saving test.csv to test.csv\n",
            "Saving train.csv to train.csv\n"
          ],
          "name": "stdout"
        }
      ]
    },
    {
      "cell_type": "code",
      "metadata": {
        "id": "faQPqB7sQDB2",
        "colab_type": "code",
        "colab": {
          "base_uri": "https://localhost:8080/",
          "height": 71
        },
        "outputId": "f6ae2f58-1234-4dc9-ece3-59b7ec017a82"
      },
      "source": [
        "#changing a file to dataset\n",
        "import io\n",
        "train = pd.read_csv(io.BytesIO(uploaded['train.csv']))\n",
        "store = pd.read_csv(io.BytesIO(uploaded['store.csv']))\n",
        "df_test = pd.read_csv(io.BytesIO(uploaded['test.csv']))"
      ],
      "execution_count": 3,
      "outputs": [
        {
          "output_type": "stream",
          "text": [
            "/usr/local/lib/python3.6/dist-packages/IPython/core/interactiveshell.py:2718: DtypeWarning: Columns (7) have mixed types.Specify dtype option on import or set low_memory=False.\n",
            "  interactivity=interactivity, compiler=compiler, result=result)\n"
          ],
          "name": "stderr"
        }
      ]
    },
    {
      "cell_type": "markdown",
      "metadata": {
        "id": "wCAJnETARaGC",
        "colab_type": "text"
      },
      "source": [
        "A quick glimpse to training data"
      ]
    },
    {
      "cell_type": "code",
      "metadata": {
        "id": "VLLh0oUfRDgt",
        "colab_type": "code",
        "colab": {
          "base_uri": "https://localhost:8080/",
          "height": 204
        },
        "outputId": "c20472d5-58c6-42d1-b07a-d586edbe2795"
      },
      "source": [
        "train.head()"
      ],
      "execution_count": null,
      "outputs": [
        {
          "output_type": "execute_result",
          "data": {
            "text/html": [
              "<div>\n",
              "<style scoped>\n",
              "    .dataframe tbody tr th:only-of-type {\n",
              "        vertical-align: middle;\n",
              "    }\n",
              "\n",
              "    .dataframe tbody tr th {\n",
              "        vertical-align: top;\n",
              "    }\n",
              "\n",
              "    .dataframe thead th {\n",
              "        text-align: right;\n",
              "    }\n",
              "</style>\n",
              "<table border=\"1\" class=\"dataframe\">\n",
              "  <thead>\n",
              "    <tr style=\"text-align: right;\">\n",
              "      <th></th>\n",
              "      <th>Store</th>\n",
              "      <th>DayOfWeek</th>\n",
              "      <th>Date</th>\n",
              "      <th>Sales</th>\n",
              "      <th>Customers</th>\n",
              "      <th>Open</th>\n",
              "      <th>Promo</th>\n",
              "      <th>StateHoliday</th>\n",
              "      <th>SchoolHoliday</th>\n",
              "    </tr>\n",
              "  </thead>\n",
              "  <tbody>\n",
              "    <tr>\n",
              "      <th>0</th>\n",
              "      <td>1</td>\n",
              "      <td>5</td>\n",
              "      <td>2015-07-31</td>\n",
              "      <td>5263</td>\n",
              "      <td>555</td>\n",
              "      <td>1</td>\n",
              "      <td>1</td>\n",
              "      <td>0</td>\n",
              "      <td>1</td>\n",
              "    </tr>\n",
              "    <tr>\n",
              "      <th>1</th>\n",
              "      <td>2</td>\n",
              "      <td>5</td>\n",
              "      <td>2015-07-31</td>\n",
              "      <td>6064</td>\n",
              "      <td>625</td>\n",
              "      <td>1</td>\n",
              "      <td>1</td>\n",
              "      <td>0</td>\n",
              "      <td>1</td>\n",
              "    </tr>\n",
              "    <tr>\n",
              "      <th>2</th>\n",
              "      <td>3</td>\n",
              "      <td>5</td>\n",
              "      <td>2015-07-31</td>\n",
              "      <td>8314</td>\n",
              "      <td>821</td>\n",
              "      <td>1</td>\n",
              "      <td>1</td>\n",
              "      <td>0</td>\n",
              "      <td>1</td>\n",
              "    </tr>\n",
              "    <tr>\n",
              "      <th>3</th>\n",
              "      <td>4</td>\n",
              "      <td>5</td>\n",
              "      <td>2015-07-31</td>\n",
              "      <td>13995</td>\n",
              "      <td>1498</td>\n",
              "      <td>1</td>\n",
              "      <td>1</td>\n",
              "      <td>0</td>\n",
              "      <td>1</td>\n",
              "    </tr>\n",
              "    <tr>\n",
              "      <th>4</th>\n",
              "      <td>5</td>\n",
              "      <td>5</td>\n",
              "      <td>2015-07-31</td>\n",
              "      <td>4822</td>\n",
              "      <td>559</td>\n",
              "      <td>1</td>\n",
              "      <td>1</td>\n",
              "      <td>0</td>\n",
              "      <td>1</td>\n",
              "    </tr>\n",
              "  </tbody>\n",
              "</table>\n",
              "</div>"
            ],
            "text/plain": [
              "   Store  DayOfWeek        Date  Sales  ...  Open  Promo  StateHoliday SchoolHoliday\n",
              "0      1          5  2015-07-31   5263  ...     1      1             0             1\n",
              "1      2          5  2015-07-31   6064  ...     1      1             0             1\n",
              "2      3          5  2015-07-31   8314  ...     1      1             0             1\n",
              "3      4          5  2015-07-31  13995  ...     1      1             0             1\n",
              "4      5          5  2015-07-31   4822  ...     1      1             0             1\n",
              "\n",
              "[5 rows x 9 columns]"
            ]
          },
          "metadata": {
            "tags": []
          },
          "execution_count": 6
        }
      ]
    },
    {
      "cell_type": "code",
      "metadata": {
        "id": "YtjLuwwDRhjZ",
        "colab_type": "code",
        "colab": {
          "base_uri": "https://localhost:8080/",
          "height": 204
        },
        "outputId": "f24bb943-1873-4c6a-f2fb-4ef881af8494"
      },
      "source": [
        "train.tail()"
      ],
      "execution_count": null,
      "outputs": [
        {
          "output_type": "execute_result",
          "data": {
            "text/html": [
              "<div>\n",
              "<style scoped>\n",
              "    .dataframe tbody tr th:only-of-type {\n",
              "        vertical-align: middle;\n",
              "    }\n",
              "\n",
              "    .dataframe tbody tr th {\n",
              "        vertical-align: top;\n",
              "    }\n",
              "\n",
              "    .dataframe thead th {\n",
              "        text-align: right;\n",
              "    }\n",
              "</style>\n",
              "<table border=\"1\" class=\"dataframe\">\n",
              "  <thead>\n",
              "    <tr style=\"text-align: right;\">\n",
              "      <th></th>\n",
              "      <th>Store</th>\n",
              "      <th>DayOfWeek</th>\n",
              "      <th>Date</th>\n",
              "      <th>Sales</th>\n",
              "      <th>Customers</th>\n",
              "      <th>Open</th>\n",
              "      <th>Promo</th>\n",
              "      <th>StateHoliday</th>\n",
              "      <th>SchoolHoliday</th>\n",
              "    </tr>\n",
              "  </thead>\n",
              "  <tbody>\n",
              "    <tr>\n",
              "      <th>1017204</th>\n",
              "      <td>1111</td>\n",
              "      <td>2</td>\n",
              "      <td>2013-01-01</td>\n",
              "      <td>0</td>\n",
              "      <td>0</td>\n",
              "      <td>0</td>\n",
              "      <td>0</td>\n",
              "      <td>a</td>\n",
              "      <td>1</td>\n",
              "    </tr>\n",
              "    <tr>\n",
              "      <th>1017205</th>\n",
              "      <td>1112</td>\n",
              "      <td>2</td>\n",
              "      <td>2013-01-01</td>\n",
              "      <td>0</td>\n",
              "      <td>0</td>\n",
              "      <td>0</td>\n",
              "      <td>0</td>\n",
              "      <td>a</td>\n",
              "      <td>1</td>\n",
              "    </tr>\n",
              "    <tr>\n",
              "      <th>1017206</th>\n",
              "      <td>1113</td>\n",
              "      <td>2</td>\n",
              "      <td>2013-01-01</td>\n",
              "      <td>0</td>\n",
              "      <td>0</td>\n",
              "      <td>0</td>\n",
              "      <td>0</td>\n",
              "      <td>a</td>\n",
              "      <td>1</td>\n",
              "    </tr>\n",
              "    <tr>\n",
              "      <th>1017207</th>\n",
              "      <td>1114</td>\n",
              "      <td>2</td>\n",
              "      <td>2013-01-01</td>\n",
              "      <td>0</td>\n",
              "      <td>0</td>\n",
              "      <td>0</td>\n",
              "      <td>0</td>\n",
              "      <td>a</td>\n",
              "      <td>1</td>\n",
              "    </tr>\n",
              "    <tr>\n",
              "      <th>1017208</th>\n",
              "      <td>1115</td>\n",
              "      <td>2</td>\n",
              "      <td>2013-01-01</td>\n",
              "      <td>0</td>\n",
              "      <td>0</td>\n",
              "      <td>0</td>\n",
              "      <td>0</td>\n",
              "      <td>a</td>\n",
              "      <td>1</td>\n",
              "    </tr>\n",
              "  </tbody>\n",
              "</table>\n",
              "</div>"
            ],
            "text/plain": [
              "         Store  DayOfWeek        Date  ...  Promo  StateHoliday  SchoolHoliday\n",
              "1017204   1111          2  2013-01-01  ...      0             a              1\n",
              "1017205   1112          2  2013-01-01  ...      0             a              1\n",
              "1017206   1113          2  2013-01-01  ...      0             a              1\n",
              "1017207   1114          2  2013-01-01  ...      0             a              1\n",
              "1017208   1115          2  2013-01-01  ...      0             a              1\n",
              "\n",
              "[5 rows x 9 columns]"
            ]
          },
          "metadata": {
            "tags": []
          },
          "execution_count": 7
        }
      ]
    },
    {
      "cell_type": "code",
      "metadata": {
        "id": "HZtVEgHASqXq",
        "colab_type": "code",
        "colab": {
          "base_uri": "https://localhost:8080/",
          "height": 187
        },
        "outputId": "141a53ad-fdc8-4e3c-9732-dd796a69a711"
      },
      "source": [
        "train.dtypes"
      ],
      "execution_count": null,
      "outputs": [
        {
          "output_type": "execute_result",
          "data": {
            "text/plain": [
              "Store             int64\n",
              "DayOfWeek         int64\n",
              "Date             object\n",
              "Sales             int64\n",
              "Customers         int64\n",
              "Open              int64\n",
              "Promo             int64\n",
              "StateHoliday     object\n",
              "SchoolHoliday     int64\n",
              "dtype: object"
            ]
          },
          "metadata": {
            "tags": []
          },
          "execution_count": 8
        }
      ]
    },
    {
      "cell_type": "code",
      "metadata": {
        "id": "E4zPbV3-SzLT",
        "colab_type": "code",
        "colab": {
          "base_uri": "https://localhost:8080/",
          "height": 34
        },
        "outputId": "467e3a5a-2d2f-4a3b-f012-f091c9e34733"
      },
      "source": [
        "train.shape"
      ],
      "execution_count": null,
      "outputs": [
        {
          "output_type": "execute_result",
          "data": {
            "text/plain": [
              "(1017209, 9)"
            ]
          },
          "metadata": {
            "tags": []
          },
          "execution_count": 9
        }
      ]
    },
    {
      "cell_type": "markdown",
      "metadata": {
        "id": "_jxb-ccIS5mN",
        "colab_type": "text"
      },
      "source": [
        "A quick glimpse on store data\n"
      ]
    },
    {
      "cell_type": "code",
      "metadata": {
        "id": "iLZk5aueTDhQ",
        "colab_type": "code",
        "colab": {
          "base_uri": "https://localhost:8080/",
          "height": 224
        },
        "outputId": "3ac740ad-447f-49af-8dfb-4805aff8125e"
      },
      "source": [
        "store.head()"
      ],
      "execution_count": null,
      "outputs": [
        {
          "output_type": "execute_result",
          "data": {
            "text/html": [
              "<div>\n",
              "<style scoped>\n",
              "    .dataframe tbody tr th:only-of-type {\n",
              "        vertical-align: middle;\n",
              "    }\n",
              "\n",
              "    .dataframe tbody tr th {\n",
              "        vertical-align: top;\n",
              "    }\n",
              "\n",
              "    .dataframe thead th {\n",
              "        text-align: right;\n",
              "    }\n",
              "</style>\n",
              "<table border=\"1\" class=\"dataframe\">\n",
              "  <thead>\n",
              "    <tr style=\"text-align: right;\">\n",
              "      <th></th>\n",
              "      <th>Store</th>\n",
              "      <th>StoreType</th>\n",
              "      <th>Assortment</th>\n",
              "      <th>CompetitionDistance</th>\n",
              "      <th>CompetitionOpenSinceMonth</th>\n",
              "      <th>CompetitionOpenSinceYear</th>\n",
              "      <th>Promo2</th>\n",
              "      <th>Promo2SinceWeek</th>\n",
              "      <th>Promo2SinceYear</th>\n",
              "      <th>PromoInterval</th>\n",
              "    </tr>\n",
              "  </thead>\n",
              "  <tbody>\n",
              "    <tr>\n",
              "      <th>0</th>\n",
              "      <td>1</td>\n",
              "      <td>c</td>\n",
              "      <td>a</td>\n",
              "      <td>1270.0</td>\n",
              "      <td>9.0</td>\n",
              "      <td>2008.0</td>\n",
              "      <td>0</td>\n",
              "      <td>NaN</td>\n",
              "      <td>NaN</td>\n",
              "      <td>NaN</td>\n",
              "    </tr>\n",
              "    <tr>\n",
              "      <th>1</th>\n",
              "      <td>2</td>\n",
              "      <td>a</td>\n",
              "      <td>a</td>\n",
              "      <td>570.0</td>\n",
              "      <td>11.0</td>\n",
              "      <td>2007.0</td>\n",
              "      <td>1</td>\n",
              "      <td>13.0</td>\n",
              "      <td>2010.0</td>\n",
              "      <td>Jan,Apr,Jul,Oct</td>\n",
              "    </tr>\n",
              "    <tr>\n",
              "      <th>2</th>\n",
              "      <td>3</td>\n",
              "      <td>a</td>\n",
              "      <td>a</td>\n",
              "      <td>14130.0</td>\n",
              "      <td>12.0</td>\n",
              "      <td>2006.0</td>\n",
              "      <td>1</td>\n",
              "      <td>14.0</td>\n",
              "      <td>2011.0</td>\n",
              "      <td>Jan,Apr,Jul,Oct</td>\n",
              "    </tr>\n",
              "    <tr>\n",
              "      <th>3</th>\n",
              "      <td>4</td>\n",
              "      <td>c</td>\n",
              "      <td>c</td>\n",
              "      <td>620.0</td>\n",
              "      <td>9.0</td>\n",
              "      <td>2009.0</td>\n",
              "      <td>0</td>\n",
              "      <td>NaN</td>\n",
              "      <td>NaN</td>\n",
              "      <td>NaN</td>\n",
              "    </tr>\n",
              "    <tr>\n",
              "      <th>4</th>\n",
              "      <td>5</td>\n",
              "      <td>a</td>\n",
              "      <td>a</td>\n",
              "      <td>29910.0</td>\n",
              "      <td>4.0</td>\n",
              "      <td>2015.0</td>\n",
              "      <td>0</td>\n",
              "      <td>NaN</td>\n",
              "      <td>NaN</td>\n",
              "      <td>NaN</td>\n",
              "    </tr>\n",
              "  </tbody>\n",
              "</table>\n",
              "</div>"
            ],
            "text/plain": [
              "   Store StoreType  ... Promo2SinceYear    PromoInterval\n",
              "0      1         c  ...             NaN              NaN\n",
              "1      2         a  ...          2010.0  Jan,Apr,Jul,Oct\n",
              "2      3         a  ...          2011.0  Jan,Apr,Jul,Oct\n",
              "3      4         c  ...             NaN              NaN\n",
              "4      5         a  ...             NaN              NaN\n",
              "\n",
              "[5 rows x 10 columns]"
            ]
          },
          "metadata": {
            "tags": []
          },
          "execution_count": 10
        }
      ]
    },
    {
      "cell_type": "code",
      "metadata": {
        "id": "D2Bgy-SpTKiK",
        "colab_type": "code",
        "colab": {
          "base_uri": "https://localhost:8080/",
          "height": 224
        },
        "outputId": "9f882213-d9dc-4b3b-b77d-8fae958cd771"
      },
      "source": [
        "store.tail()"
      ],
      "execution_count": null,
      "outputs": [
        {
          "output_type": "execute_result",
          "data": {
            "text/html": [
              "<div>\n",
              "<style scoped>\n",
              "    .dataframe tbody tr th:only-of-type {\n",
              "        vertical-align: middle;\n",
              "    }\n",
              "\n",
              "    .dataframe tbody tr th {\n",
              "        vertical-align: top;\n",
              "    }\n",
              "\n",
              "    .dataframe thead th {\n",
              "        text-align: right;\n",
              "    }\n",
              "</style>\n",
              "<table border=\"1\" class=\"dataframe\">\n",
              "  <thead>\n",
              "    <tr style=\"text-align: right;\">\n",
              "      <th></th>\n",
              "      <th>Store</th>\n",
              "      <th>StoreType</th>\n",
              "      <th>Assortment</th>\n",
              "      <th>CompetitionDistance</th>\n",
              "      <th>CompetitionOpenSinceMonth</th>\n",
              "      <th>CompetitionOpenSinceYear</th>\n",
              "      <th>Promo2</th>\n",
              "      <th>Promo2SinceWeek</th>\n",
              "      <th>Promo2SinceYear</th>\n",
              "      <th>PromoInterval</th>\n",
              "    </tr>\n",
              "  </thead>\n",
              "  <tbody>\n",
              "    <tr>\n",
              "      <th>1110</th>\n",
              "      <td>1111</td>\n",
              "      <td>a</td>\n",
              "      <td>a</td>\n",
              "      <td>1900.0</td>\n",
              "      <td>6.0</td>\n",
              "      <td>2014.0</td>\n",
              "      <td>1</td>\n",
              "      <td>31.0</td>\n",
              "      <td>2013.0</td>\n",
              "      <td>Jan,Apr,Jul,Oct</td>\n",
              "    </tr>\n",
              "    <tr>\n",
              "      <th>1111</th>\n",
              "      <td>1112</td>\n",
              "      <td>c</td>\n",
              "      <td>c</td>\n",
              "      <td>1880.0</td>\n",
              "      <td>4.0</td>\n",
              "      <td>2006.0</td>\n",
              "      <td>0</td>\n",
              "      <td>NaN</td>\n",
              "      <td>NaN</td>\n",
              "      <td>NaN</td>\n",
              "    </tr>\n",
              "    <tr>\n",
              "      <th>1112</th>\n",
              "      <td>1113</td>\n",
              "      <td>a</td>\n",
              "      <td>c</td>\n",
              "      <td>9260.0</td>\n",
              "      <td>NaN</td>\n",
              "      <td>NaN</td>\n",
              "      <td>0</td>\n",
              "      <td>NaN</td>\n",
              "      <td>NaN</td>\n",
              "      <td>NaN</td>\n",
              "    </tr>\n",
              "    <tr>\n",
              "      <th>1113</th>\n",
              "      <td>1114</td>\n",
              "      <td>a</td>\n",
              "      <td>c</td>\n",
              "      <td>870.0</td>\n",
              "      <td>NaN</td>\n",
              "      <td>NaN</td>\n",
              "      <td>0</td>\n",
              "      <td>NaN</td>\n",
              "      <td>NaN</td>\n",
              "      <td>NaN</td>\n",
              "    </tr>\n",
              "    <tr>\n",
              "      <th>1114</th>\n",
              "      <td>1115</td>\n",
              "      <td>d</td>\n",
              "      <td>c</td>\n",
              "      <td>5350.0</td>\n",
              "      <td>NaN</td>\n",
              "      <td>NaN</td>\n",
              "      <td>1</td>\n",
              "      <td>22.0</td>\n",
              "      <td>2012.0</td>\n",
              "      <td>Mar,Jun,Sept,Dec</td>\n",
              "    </tr>\n",
              "  </tbody>\n",
              "</table>\n",
              "</div>"
            ],
            "text/plain": [
              "      Store StoreType  ... Promo2SinceYear     PromoInterval\n",
              "1110   1111         a  ...          2013.0   Jan,Apr,Jul,Oct\n",
              "1111   1112         c  ...             NaN               NaN\n",
              "1112   1113         a  ...             NaN               NaN\n",
              "1113   1114         a  ...             NaN               NaN\n",
              "1114   1115         d  ...          2012.0  Mar,Jun,Sept,Dec\n",
              "\n",
              "[5 rows x 10 columns]"
            ]
          },
          "metadata": {
            "tags": []
          },
          "execution_count": 11
        }
      ]
    },
    {
      "cell_type": "code",
      "metadata": {
        "id": "bsJ4ykeITavs",
        "colab_type": "code",
        "colab": {
          "base_uri": "https://localhost:8080/",
          "height": 204
        },
        "outputId": "34353248-6444-4aa3-b293-f8d8557baa86"
      },
      "source": [
        "store.dtypes"
      ],
      "execution_count": null,
      "outputs": [
        {
          "output_type": "execute_result",
          "data": {
            "text/plain": [
              "Store                          int64\n",
              "StoreType                     object\n",
              "Assortment                    object\n",
              "CompetitionDistance          float64\n",
              "CompetitionOpenSinceMonth    float64\n",
              "CompetitionOpenSinceYear     float64\n",
              "Promo2                         int64\n",
              "Promo2SinceWeek              float64\n",
              "Promo2SinceYear              float64\n",
              "PromoInterval                 object\n",
              "dtype: object"
            ]
          },
          "metadata": {
            "tags": []
          },
          "execution_count": 12
        }
      ]
    },
    {
      "cell_type": "code",
      "metadata": {
        "id": "jEGg1kcMTgWv",
        "colab_type": "code",
        "colab": {
          "base_uri": "https://localhost:8080/",
          "height": 34
        },
        "outputId": "064d0341-a9ad-4e1e-d498-34b17df422dc"
      },
      "source": [
        "store.shape"
      ],
      "execution_count": null,
      "outputs": [
        {
          "output_type": "execute_result",
          "data": {
            "text/plain": [
              "(1115, 10)"
            ]
          },
          "metadata": {
            "tags": []
          },
          "execution_count": 13
        }
      ]
    },
    {
      "cell_type": "code",
      "metadata": {
        "id": "jG8tahBaTm27",
        "colab_type": "code",
        "colab": {
          "base_uri": "https://localhost:8080/",
          "height": 204
        },
        "outputId": "a2531d53-7a66-48d2-c945-a3d8816e49fc"
      },
      "source": [
        "df_test.head()"
      ],
      "execution_count": null,
      "outputs": [
        {
          "output_type": "execute_result",
          "data": {
            "text/html": [
              "<div>\n",
              "<style scoped>\n",
              "    .dataframe tbody tr th:only-of-type {\n",
              "        vertical-align: middle;\n",
              "    }\n",
              "\n",
              "    .dataframe tbody tr th {\n",
              "        vertical-align: top;\n",
              "    }\n",
              "\n",
              "    .dataframe thead th {\n",
              "        text-align: right;\n",
              "    }\n",
              "</style>\n",
              "<table border=\"1\" class=\"dataframe\">\n",
              "  <thead>\n",
              "    <tr style=\"text-align: right;\">\n",
              "      <th></th>\n",
              "      <th>Id</th>\n",
              "      <th>Store</th>\n",
              "      <th>DayOfWeek</th>\n",
              "      <th>Date</th>\n",
              "      <th>Open</th>\n",
              "      <th>Promo</th>\n",
              "      <th>StateHoliday</th>\n",
              "      <th>SchoolHoliday</th>\n",
              "    </tr>\n",
              "  </thead>\n",
              "  <tbody>\n",
              "    <tr>\n",
              "      <th>0</th>\n",
              "      <td>1</td>\n",
              "      <td>1</td>\n",
              "      <td>4</td>\n",
              "      <td>2015-09-17</td>\n",
              "      <td>1.0</td>\n",
              "      <td>1</td>\n",
              "      <td>0</td>\n",
              "      <td>0</td>\n",
              "    </tr>\n",
              "    <tr>\n",
              "      <th>1</th>\n",
              "      <td>2</td>\n",
              "      <td>3</td>\n",
              "      <td>4</td>\n",
              "      <td>2015-09-17</td>\n",
              "      <td>1.0</td>\n",
              "      <td>1</td>\n",
              "      <td>0</td>\n",
              "      <td>0</td>\n",
              "    </tr>\n",
              "    <tr>\n",
              "      <th>2</th>\n",
              "      <td>3</td>\n",
              "      <td>7</td>\n",
              "      <td>4</td>\n",
              "      <td>2015-09-17</td>\n",
              "      <td>1.0</td>\n",
              "      <td>1</td>\n",
              "      <td>0</td>\n",
              "      <td>0</td>\n",
              "    </tr>\n",
              "    <tr>\n",
              "      <th>3</th>\n",
              "      <td>4</td>\n",
              "      <td>8</td>\n",
              "      <td>4</td>\n",
              "      <td>2015-09-17</td>\n",
              "      <td>1.0</td>\n",
              "      <td>1</td>\n",
              "      <td>0</td>\n",
              "      <td>0</td>\n",
              "    </tr>\n",
              "    <tr>\n",
              "      <th>4</th>\n",
              "      <td>5</td>\n",
              "      <td>9</td>\n",
              "      <td>4</td>\n",
              "      <td>2015-09-17</td>\n",
              "      <td>1.0</td>\n",
              "      <td>1</td>\n",
              "      <td>0</td>\n",
              "      <td>0</td>\n",
              "    </tr>\n",
              "  </tbody>\n",
              "</table>\n",
              "</div>"
            ],
            "text/plain": [
              "   Id  Store  DayOfWeek        Date  Open  Promo StateHoliday  SchoolHoliday\n",
              "0   1      1          4  2015-09-17   1.0      1            0              0\n",
              "1   2      3          4  2015-09-17   1.0      1            0              0\n",
              "2   3      7          4  2015-09-17   1.0      1            0              0\n",
              "3   4      8          4  2015-09-17   1.0      1            0              0\n",
              "4   5      9          4  2015-09-17   1.0      1            0              0"
            ]
          },
          "metadata": {
            "tags": []
          },
          "execution_count": 14
        }
      ]
    },
    {
      "cell_type": "markdown",
      "metadata": {
        "id": "gQ_z8Bkjj56J",
        "colab_type": "text"
      },
      "source": [
        "Close Look at Train Data# New Section"
      ]
    },
    {
      "cell_type": "markdown",
      "metadata": {
        "id": "OB0pEYwgU7fC",
        "colab_type": "text"
      },
      "source": [
        "Getting rid of closed stores and those who made 0 sales"
      ]
    },
    {
      "cell_type": "code",
      "metadata": {
        "id": "dMOIg30hVTHl",
        "colab_type": "code",
        "colab": {
          "base_uri": "https://localhost:8080/",
          "height": 34
        },
        "outputId": "67ebf3a1-ba38-427a-be30-98a9af8eb7d5"
      },
      "source": [
        "train= train.drop(train[(train.Open == 0) & (train.Sales == 0)].index)\n",
        "print(\"new training set has {} rows\".format(train.shape[0]))"
      ],
      "execution_count": 4,
      "outputs": [
        {
          "output_type": "stream",
          "text": [
            "new training set has 844392 rows\n"
          ],
          "name": "stdout"
        }
      ]
    },
    {
      "cell_type": "code",
      "metadata": {
        "id": "HPs6GE30WKKO",
        "colab_type": "code",
        "colab": {}
      },
      "source": [
        "#reseting index to make sure the data are back to its normal counting\n",
        "train = train.reset_index(drop = True)"
      ],
      "execution_count": 5,
      "outputs": []
    },
    {
      "cell_type": "code",
      "metadata": {
        "id": "jFHX4algWvzR",
        "colab_type": "code",
        "colab": {
          "base_uri": "https://localhost:8080/",
          "height": 170
        },
        "outputId": "1dddbe72-d13f-478e-c0f4-e4612b86d9c0"
      },
      "source": [
        "train.Sales.describe()"
      ],
      "execution_count": null,
      "outputs": [
        {
          "output_type": "execute_result",
          "data": {
            "text/plain": [
              "count    844392.000000\n",
              "mean       6955.514291\n",
              "std        3104.214680\n",
              "min           0.000000\n",
              "25%        4859.000000\n",
              "50%        6369.000000\n",
              "75%        8360.000000\n",
              "max       41551.000000\n",
              "Name: Sales, dtype: float64"
            ]
          },
          "metadata": {
            "tags": []
          },
          "execution_count": 9
        }
      ]
    },
    {
      "cell_type": "markdown",
      "metadata": {
        "id": "esWrYE-_X-l6",
        "colab_type": "text"
      },
      "source": [
        "We can see that there were even some open stores who made 0 sales due to the min on some days we can also drop them."
      ]
    },
    {
      "cell_type": "code",
      "metadata": {
        "id": "kQfbj_jFYF43",
        "colab_type": "code",
        "colab": {}
      },
      "source": [
        "train= train.drop(train[(train.Open == 1) & (train.Sales == 0)].index)\n",
        "train = train.reset_index(drop = True)"
      ],
      "execution_count": 6,
      "outputs": []
    },
    {
      "cell_type": "code",
      "metadata": {
        "id": "CDno9TTUYo0a",
        "colab_type": "code",
        "colab": {
          "base_uri": "https://localhost:8080/",
          "height": 271
        },
        "outputId": "e5e674ba-4201-4e1a-f092-254f88318f4d"
      },
      "source": [
        "fig, axes = plt.subplots(1, 2, figsize=(17,3.5))\n",
        "axes[0].boxplot(train.Sales, showmeans=True,vert=False)\n",
        "axes[0].set_xlim(0,max(train[\"Sales\"]+1000))\n",
        "axes[0].set_title('Boxplot For Sales Values')\n",
        "axes[1].hist(train.Sales, cumulative=False, bins=20)\n",
        "axes[1].set_title(\"Sales histogram\")\n",
        "axes[1].set_xlim((min(train.Sales), max(train.Sales)))\n",
        "\n",
        "{\"Mean\":np.mean(train.Sales),\"Median\":np.median(train.Sales)}"
      ],
      "execution_count": null,
      "outputs": [
        {
          "output_type": "execute_result",
          "data": {
            "text/plain": [
              "{'Mean': 6955.959133664481, 'Median': 6369.0}"
            ]
          },
          "metadata": {
            "tags": []
          },
          "execution_count": 11
        },
        {
          "output_type": "display_data",
          "data": {
            "image/png": "[encoded data removed]",
            "text/plain": [
              "<Figure size 1224x252 with 2 Axes>"
            ]
          },
          "metadata": {
            "tags": [],
            "needs_background": "light"
          }
        }
      ]
    },
    {
      "cell_type": "code",
      "metadata": {
        "id": "283LF9gjZ_iP",
        "colab_type": "code",
        "colab": {
          "base_uri": "https://localhost:8080/",
          "height": 170
        },
        "outputId": "5cee221e-0413-4235-cb54-145b8cf1353a"
      },
      "source": [
        "train.Customers.describe()"
      ],
      "execution_count": null,
      "outputs": [
        {
          "output_type": "execute_result",
          "data": {
            "text/plain": [
              "count    844338.000000\n",
              "mean        762.777166\n",
              "std         401.194153\n",
              "min           8.000000\n",
              "25%         519.000000\n",
              "50%         676.000000\n",
              "75%         893.000000\n",
              "max        7388.000000\n",
              "Name: Customers, dtype: float64"
            ]
          },
          "metadata": {
            "tags": []
          },
          "execution_count": 23
        }
      ]
    },
    {
      "cell_type": "code",
      "metadata": {
        "id": "2ZqGnLiRcgVh",
        "colab_type": "code",
        "colab": {
          "base_uri": "https://localhost:8080/",
          "height": 271
        },
        "outputId": "ce8a7257-8f2b-4c83-dd2e-4890f3c9532d"
      },
      "source": [
        "fig, axes = plt.subplots(1, 2, figsize=(17,3.5))\n",
        "axes[0].boxplot(train.Customers, showmeans=True,vert=False)\n",
        "axes[0].set_xlim(0,max(train[\"Customers\"]+100))\n",
        "axes[0].set_title('Boxplot For Customer Values')\n",
        "axes[1].hist(train.Customers, cumulative=False, bins=20)\n",
        "axes[1].set_title(\"Customers histogram\")\n",
        "axes[1].set_xlim((min(train.Customers), max(train.Sales)))\n",
        "\n",
        "{\"Mean\":np.mean(train.Customers),\"Median\":np.median(train.Customers)}"
      ],
      "execution_count": null,
      "outputs": [
        {
          "output_type": "execute_result",
          "data": {
            "text/plain": [
              "{'Mean': 762.777166253325, 'Median': 676.0}"
            ]
          },
          "metadata": {
            "tags": []
          },
          "execution_count": 12
        },
        {
          "output_type": "display_data",
          "data": {
            "image/png": "[encoded data removed]",
            "text/plain": [
              "<Figure size 1224x252 with 2 Axes>"
            ]
          },
          "metadata": {
            "tags": [],
            "needs_background": "light"
          }
        }
      ]
    },
    {
      "cell_type": "markdown",
      "metadata": {
        "id": "7kBkJ8YjcegT",
        "colab_type": "text"
      },
      "source": [
        "Checking Correlation between Sales and Customers "
      ]
    },
    {
      "cell_type": "code",
      "metadata": {
        "id": "i2df8hwIgVFP",
        "colab_type": "code",
        "colab": {
          "base_uri": "https://localhost:8080/",
          "height": 34
        },
        "outputId": "6cbefbaa-17c7-4762-a15f-64697821746c"
      },
      "source": [
        "#using pearson's correlation factor to check correlation\n",
        "stats.pearsonr(train.Customers, train.Sales)[0]"
      ],
      "execution_count": null,
      "outputs": [
        {
          "output_type": "execute_result",
          "data": {
            "text/plain": [
              "0.823551720200022"
            ]
          },
          "metadata": {
            "tags": []
          },
          "execution_count": 27
        }
      ]
    },
    {
      "cell_type": "markdown",
      "metadata": {
        "id": "XNAsMgA-gjI2",
        "colab_type": "text"
      },
      "source": [
        "This indicates that there is a strong positive correlation between Sales and Customers! the more the sales the more the customers."
      ]
    },
    {
      "cell_type": "code",
      "metadata": {
        "id": "6klngRTtgwQQ",
        "colab_type": "code",
        "colab": {
          "base_uri": "https://localhost:8080/",
          "height": 187
        },
        "outputId": "cc8bf300-166e-482e-c8c8-3d3d641e533c"
      },
      "source": [
        "#checking null values in the train dataset.\n",
        "train.isna().sum()"
      ],
      "execution_count": null,
      "outputs": [
        {
          "output_type": "execute_result",
          "data": {
            "text/plain": [
              "Store            0\n",
              "DayOfWeek        0\n",
              "Date             0\n",
              "Sales            0\n",
              "Customers        0\n",
              "Open             0\n",
              "Promo            0\n",
              "StateHoliday     0\n",
              "SchoolHoliday    0\n",
              "dtype: int64"
            ]
          },
          "metadata": {
            "tags": []
          },
          "execution_count": 29
        }
      ]
    },
    {
      "cell_type": "markdown",
      "metadata": {
        "id": "1s34ihVtjLkw",
        "colab_type": "text"
      },
      "source": [
        "We can see that the the columns have got a good fill rate. We don't need to do any change for the train set for now at least"
      ]
    },
    {
      "cell_type": "markdown",
      "metadata": {
        "id": "FX-CTIegk8ha",
        "colab_type": "text"
      },
      "source": [
        "Close look at the store set"
      ]
    },
    {
      "cell_type": "code",
      "metadata": {
        "id": "tdZdNQdRlESp",
        "colab_type": "code",
        "colab": {
          "base_uri": "https://localhost:8080/",
          "height": 204
        },
        "outputId": "3cecf7ec-b18d-4ea1-9989-a89ba8dd8b75"
      },
      "source": [
        "#checking missing values percentage\n",
        "store.count(0)/store.shape[0] * 100"
      ],
      "execution_count": null,
      "outputs": [
        {
          "output_type": "execute_result",
          "data": {
            "text/plain": [
              "Store                        100.000000\n",
              "StoreType                    100.000000\n",
              "Assortment                   100.000000\n",
              "CompetitionDistance           99.730942\n",
              "CompetitionOpenSinceMonth     68.251121\n",
              "CompetitionOpenSinceYear      68.251121\n",
              "Promo2                       100.000000\n",
              "Promo2SinceWeek               51.210762\n",
              "Promo2SinceYear               51.210762\n",
              "PromoInterval                 51.210762\n",
              "dtype: float64"
            ]
          },
          "metadata": {
            "tags": []
          },
          "execution_count": 30
        }
      ]
    },
    {
      "cell_type": "markdown",
      "metadata": {
        "id": "4aycjVTQmdwg",
        "colab_type": "text"
      },
      "source": [
        "promo2 SinceWeek, SinceYear and primo interval are NULL because of there was no continuation in promotions for those stores.\n",
        "\n",
        "we have to deal with missing values for CompetitionOpenSinceMonth and CompetitionOpenSinceYear\n"
      ]
    },
    {
      "cell_type": "markdown",
      "metadata": {
        "id": "eiDqorkdnrnX",
        "colab_type": "text"
      },
      "source": [
        "**Filling missing values one by one**"
      ]
    },
    {
      "cell_type": "markdown",
      "metadata": {
        "id": "Jmj-WCQCn1Fd",
        "colab_type": "text"
      },
      "source": [
        "1. CompetionDistance"
      ]
    },
    {
      "cell_type": "code",
      "metadata": {
        "id": "12mZNmmmnkS2",
        "colab_type": "code",
        "colab": {
          "base_uri": "https://localhost:8080/",
          "height": 162
        },
        "outputId": "8e909772-89f1-4af9-9f14-31f841919245"
      },
      "source": [
        "store[pd.isnull(store.CompetitionDistance)] \n",
        "#only 3 rows misses data"
      ],
      "execution_count": null,
      "outputs": [
        {
          "output_type": "execute_result",
          "data": {
            "text/html": [
              "<div>\n",
              "<style scoped>\n",
              "    .dataframe tbody tr th:only-of-type {\n",
              "        vertical-align: middle;\n",
              "    }\n",
              "\n",
              "    .dataframe tbody tr th {\n",
              "        vertical-align: top;\n",
              "    }\n",
              "\n",
              "    .dataframe thead th {\n",
              "        text-align: right;\n",
              "    }\n",
              "</style>\n",
              "<table border=\"1\" class=\"dataframe\">\n",
              "  <thead>\n",
              "    <tr style=\"text-align: right;\">\n",
              "      <th></th>\n",
              "      <th>Store</th>\n",
              "      <th>StoreType</th>\n",
              "      <th>Assortment</th>\n",
              "      <th>CompetitionDistance</th>\n",
              "      <th>CompetitionOpenSinceMonth</th>\n",
              "      <th>CompetitionOpenSinceYear</th>\n",
              "      <th>Promo2</th>\n",
              "      <th>Promo2SinceWeek</th>\n",
              "      <th>Promo2SinceYear</th>\n",
              "      <th>PromoInterval</th>\n",
              "    </tr>\n",
              "  </thead>\n",
              "  <tbody>\n",
              "    <tr>\n",
              "      <th>290</th>\n",
              "      <td>291</td>\n",
              "      <td>d</td>\n",
              "      <td>a</td>\n",
              "      <td>NaN</td>\n",
              "      <td>NaN</td>\n",
              "      <td>NaN</td>\n",
              "      <td>0</td>\n",
              "      <td>NaN</td>\n",
              "      <td>NaN</td>\n",
              "      <td>NaN</td>\n",
              "    </tr>\n",
              "    <tr>\n",
              "      <th>621</th>\n",
              "      <td>622</td>\n",
              "      <td>a</td>\n",
              "      <td>c</td>\n",
              "      <td>NaN</td>\n",
              "      <td>NaN</td>\n",
              "      <td>NaN</td>\n",
              "      <td>0</td>\n",
              "      <td>NaN</td>\n",
              "      <td>NaN</td>\n",
              "      <td>NaN</td>\n",
              "    </tr>\n",
              "    <tr>\n",
              "      <th>878</th>\n",
              "      <td>879</td>\n",
              "      <td>d</td>\n",
              "      <td>a</td>\n",
              "      <td>NaN</td>\n",
              "      <td>NaN</td>\n",
              "      <td>NaN</td>\n",
              "      <td>1</td>\n",
              "      <td>5.0</td>\n",
              "      <td>2013.0</td>\n",
              "      <td>Feb,May,Aug,Nov</td>\n",
              "    </tr>\n",
              "  </tbody>\n",
              "</table>\n",
              "</div>"
            ],
            "text/plain": [
              "     Store StoreType  ... Promo2SinceYear    PromoInterval\n",
              "290    291         d  ...             NaN              NaN\n",
              "621    622         a  ...             NaN              NaN\n",
              "878    879         d  ...          2013.0  Feb,May,Aug,Nov\n",
              "\n",
              "[3 rows x 10 columns]"
            ]
          },
          "metadata": {
            "tags": []
          },
          "execution_count": 31
        }
      ]
    },
    {
      "cell_type": "code",
      "metadata": {
        "id": "qhoYqgU2oO_K",
        "colab_type": "code",
        "colab": {}
      },
      "source": [
        "#filling CompetitionDistance with median\n",
        "store['CompetitionDistance'].fillna(store['CompetitionDistance'].median(), inplace = True)\n"
      ],
      "execution_count": 7,
      "outputs": []
    },
    {
      "cell_type": "markdown",
      "metadata": {
        "id": "dXq664vso5BH",
        "colab_type": "text"
      },
      "source": [
        "2. CompetitionOpenSince and CompetionOpenSinceYear\n",
        "\n",
        "Since we have no information whatsoever on those missing values and no accurate way of filling those values.\n",
        "\n",
        "A creative way could be to apply a multilabel classification algorithm and train on the non Nan fields and then predict what could be most probably the month and year for those fields. But this approach is computationally too long.\n",
        "\n",
        "So for this purpose those fields are going to be assigned to 0 .\n"
      ]
    },
    {
      "cell_type": "code",
      "metadata": {
        "id": "KgD5M4MQoqWa",
        "colab_type": "code",
        "colab": {}
      },
      "source": [
        "store.CompetitionOpenSinceMonth.fillna(0, inplace = True)\n",
        "store.CompetitionOpenSinceYear.fillna(0,inplace=True)"
      ],
      "execution_count": 8,
      "outputs": []
    },
    {
      "cell_type": "markdown",
      "metadata": {
        "id": "teqQ5hwjpsBv",
        "colab_type": "text"
      },
      "source": [
        "3) Promo2SinceWeek, Promo2SinceYear and PromoInterval\n"
      ]
    },
    {
      "cell_type": "code",
      "metadata": {
        "id": "0pjrDO_PpyyW",
        "colab_type": "code",
        "colab": {}
      },
      "source": [
        "#checking cells where the later columns are null\n",
        "# store[pd.isnull(store.Promo2SinceWeek)]\n",
        "# store[pd.isnull(store.Promo2SinceWeek)& (store.Promo2==0)]\n",
        "# they are null where promo2 is 0 "
      ],
      "execution_count": null,
      "outputs": []
    },
    {
      "cell_type": "markdown",
      "metadata": {
        "id": "V8EsOR50q0jj",
        "colab_type": "text"
      },
      "source": [
        "Having no promotion means those fields have to be 0 as well since they are linked to Promo2. to mean there is no continuation in promotion"
      ]
    },
    {
      "cell_type": "code",
      "metadata": {
        "id": "R4vyORlTrBvS",
        "colab_type": "code",
        "colab": {}
      },
      "source": [
        "store.Promo2SinceWeek.fillna(0,inplace=True)\n",
        "store.Promo2SinceYear.fillna(0,inplace=True)\n",
        "store.PromoInterval.fillna(0,inplace=True)"
      ],
      "execution_count": 9,
      "outputs": []
    },
    {
      "cell_type": "code",
      "metadata": {
        "id": "vr1zW_fQuF4U",
        "colab_type": "code",
        "colab": {
          "base_uri": "https://localhost:8080/",
          "height": 204
        },
        "outputId": "fa613348-4b28-4092-c434-e94fa52c3415"
      },
      "source": [
        "store.count(0)/store.shape[0] * 100"
      ],
      "execution_count": 10,
      "outputs": [
        {
          "output_type": "execute_result",
          "data": {
            "text/plain": [
              "Store                        100.0\n",
              "StoreType                    100.0\n",
              "Assortment                   100.0\n",
              "CompetitionDistance          100.0\n",
              "CompetitionOpenSinceMonth    100.0\n",
              "CompetitionOpenSinceYear     100.0\n",
              "Promo2                       100.0\n",
              "Promo2SinceWeek              100.0\n",
              "Promo2SinceYear              100.0\n",
              "PromoInterval                100.0\n",
              "dtype: float64"
            ]
          },
          "metadata": {
            "tags": []
          },
          "execution_count": 10
        }
      ]
    },
    {
      "cell_type": "markdown",
      "metadata": {
        "id": "DqENQDaluUcH",
        "colab_type": "text"
      },
      "source": [
        "All is well now we can merge our sets."
      ]
    },
    {
      "cell_type": "markdown",
      "metadata": {
        "id": "9tUX_mVVxAdi",
        "colab_type": "text"
      },
      "source": [
        "we use left join to join train to store dataset because you want to make sure you have all events even if some of them don't have their store information ( which shouldn't happen)"
      ]
    },
    {
      "cell_type": "code",
      "metadata": {
        "id": "C6rbA_dBwKE6",
        "colab_type": "code",
        "colab": {
          "base_uri": "https://localhost:8080/",
          "height": 34
        },
        "outputId": "02003f95-066e-442d-b7a1-b8a14abd3fce"
      },
      "source": [
        "df_train_store = pd.merge(train, store, how = 'left', on = 'Store')\n",
        " \n",
        "print (\"The Train_Store dataset has {} Rows and {} Variables\".format(str(df_train_store.shape[0]),str(df_train_store.shape[1]))) "
      ],
      "execution_count": 11,
      "outputs": [
        {
          "output_type": "stream",
          "text": [
            "The Train_Store dataset has 844338 Rows and 18 Variables\n"
          ],
          "name": "stdout"
        }
      ]
    },
    {
      "cell_type": "markdown",
      "metadata": {
        "id": "qA-sHNlhG6TZ",
        "colab_type": "text"
      },
      "source": [
        "**Seasonability sales and Customer behavior**"
      ]
    },
    {
      "cell_type": "code",
      "metadata": {
        "id": "mMKaxjKSHUGd",
        "colab_type": "code",
        "colab": {}
      },
      "source": [
        "#function to plot sales and purchase trends\n",
        "def plot_trends(data, column):\n",
        "    data_sales = pd.concat([data[column],data['Date']], axis = 1)\n",
        "    data_sales = data_sales.set_index('Date')\n",
        "    fig, ax = plt.subplots(figsize= (18,8))\n",
        "    month_plots = data_sales.resample('M').mean()\n",
        "    ax.plot(month_plots)\n",
        "    ax.set(xlabel = \"date\", ylabel = \"Total Sales per month\", title = \"Monthly Sales Trend\")\n",
        "    plt.xticks(rotation = 45, fontsize = 25)\n",
        "    plt.yticks(fontsize = 25)\n",
        "    plt.show()"
      ],
      "execution_count": 91,
      "outputs": []
    },
    {
      "cell_type": "code",
      "metadata": {
        "id": "1I3G3pETh0Ek",
        "colab_type": "code",
        "colab": {
          "base_uri": "https://localhost:8080/",
          "height": 309
        },
        "outputId": "e1729e63-e65c-49e3-a57d-ab7c3e228e2f"
      },
      "source": [
        "df_train_store.head()"
      ],
      "execution_count": null,
      "outputs": [
        {
          "output_type": "execute_result",
          "data": {
            "text/html": [
              "<div>\n",
              "<style scoped>\n",
              "    .dataframe tbody tr th:only-of-type {\n",
              "        vertical-align: middle;\n",
              "    }\n",
              "\n",
              "    .dataframe tbody tr th {\n",
              "        vertical-align: top;\n",
              "    }\n",
              "\n",
              "    .dataframe thead th {\n",
              "        text-align: right;\n",
              "    }\n",
              "</style>\n",
              "<table border=\"1\" class=\"dataframe\">\n",
              "  <thead>\n",
              "    <tr style=\"text-align: right;\">\n",
              "      <th></th>\n",
              "      <th>Store</th>\n",
              "      <th>DayOfWeek</th>\n",
              "      <th>Date</th>\n",
              "      <th>Sales</th>\n",
              "      <th>Customers</th>\n",
              "      <th>Open</th>\n",
              "      <th>Promo</th>\n",
              "      <th>StateHoliday</th>\n",
              "      <th>SchoolHoliday</th>\n",
              "      <th>StoreType</th>\n",
              "      <th>Assortment</th>\n",
              "      <th>CompetitionDistance</th>\n",
              "      <th>CompetitionOpenSinceMonth</th>\n",
              "      <th>CompetitionOpenSinceYear</th>\n",
              "      <th>Promo2</th>\n",
              "      <th>Promo2SinceWeek</th>\n",
              "      <th>Promo2SinceYear</th>\n",
              "      <th>PromoInterval</th>\n",
              "    </tr>\n",
              "  </thead>\n",
              "  <tbody>\n",
              "    <tr>\n",
              "      <th>0</th>\n",
              "      <td>1</td>\n",
              "      <td>5</td>\n",
              "      <td>2015-07-31</td>\n",
              "      <td>5263</td>\n",
              "      <td>555</td>\n",
              "      <td>1</td>\n",
              "      <td>1</td>\n",
              "      <td>0</td>\n",
              "      <td>1</td>\n",
              "      <td>c</td>\n",
              "      <td>a</td>\n",
              "      <td>1270.0</td>\n",
              "      <td>9.0</td>\n",
              "      <td>2008.0</td>\n",
              "      <td>0</td>\n",
              "      <td>0.0</td>\n",
              "      <td>0.0</td>\n",
              "      <td>0</td>\n",
              "    </tr>\n",
              "    <tr>\n",
              "      <th>1</th>\n",
              "      <td>2</td>\n",
              "      <td>5</td>\n",
              "      <td>2015-07-31</td>\n",
              "      <td>6064</td>\n",
              "      <td>625</td>\n",
              "      <td>1</td>\n",
              "      <td>1</td>\n",
              "      <td>0</td>\n",
              "      <td>1</td>\n",
              "      <td>a</td>\n",
              "      <td>a</td>\n",
              "      <td>570.0</td>\n",
              "      <td>11.0</td>\n",
              "      <td>2007.0</td>\n",
              "      <td>1</td>\n",
              "      <td>13.0</td>\n",
              "      <td>2010.0</td>\n",
              "      <td>Jan,Apr,Jul,Oct</td>\n",
              "    </tr>\n",
              "    <tr>\n",
              "      <th>2</th>\n",
              "      <td>3</td>\n",
              "      <td>5</td>\n",
              "      <td>2015-07-31</td>\n",
              "      <td>8314</td>\n",
              "      <td>821</td>\n",
              "      <td>1</td>\n",
              "      <td>1</td>\n",
              "      <td>0</td>\n",
              "      <td>1</td>\n",
              "      <td>a</td>\n",
              "      <td>a</td>\n",
              "      <td>14130.0</td>\n",
              "      <td>12.0</td>\n",
              "      <td>2006.0</td>\n",
              "      <td>1</td>\n",
              "      <td>14.0</td>\n",
              "      <td>2011.0</td>\n",
              "      <td>Jan,Apr,Jul,Oct</td>\n",
              "    </tr>\n",
              "    <tr>\n",
              "      <th>3</th>\n",
              "      <td>4</td>\n",
              "      <td>5</td>\n",
              "      <td>2015-07-31</td>\n",
              "      <td>13995</td>\n",
              "      <td>1498</td>\n",
              "      <td>1</td>\n",
              "      <td>1</td>\n",
              "      <td>0</td>\n",
              "      <td>1</td>\n",
              "      <td>c</td>\n",
              "      <td>c</td>\n",
              "      <td>620.0</td>\n",
              "      <td>9.0</td>\n",
              "      <td>2009.0</td>\n",
              "      <td>0</td>\n",
              "      <td>0.0</td>\n",
              "      <td>0.0</td>\n",
              "      <td>0</td>\n",
              "    </tr>\n",
              "    <tr>\n",
              "      <th>4</th>\n",
              "      <td>5</td>\n",
              "      <td>5</td>\n",
              "      <td>2015-07-31</td>\n",
              "      <td>4822</td>\n",
              "      <td>559</td>\n",
              "      <td>1</td>\n",
              "      <td>1</td>\n",
              "      <td>0</td>\n",
              "      <td>1</td>\n",
              "      <td>a</td>\n",
              "      <td>a</td>\n",
              "      <td>29910.0</td>\n",
              "      <td>4.0</td>\n",
              "      <td>2015.0</td>\n",
              "      <td>0</td>\n",
              "      <td>0.0</td>\n",
              "      <td>0.0</td>\n",
              "      <td>0</td>\n",
              "    </tr>\n",
              "  </tbody>\n",
              "</table>\n",
              "</div>"
            ],
            "text/plain": [
              "   Store  DayOfWeek  ... Promo2SinceYear    PromoInterval\n",
              "0      1          5  ...             0.0                0\n",
              "1      2          5  ...          2010.0  Jan,Apr,Jul,Oct\n",
              "2      3          5  ...          2011.0  Jan,Apr,Jul,Oct\n",
              "3      4          5  ...             0.0                0\n",
              "4      5          5  ...             0.0                0\n",
              "\n",
              "[5 rows x 18 columns]"
            ]
          },
          "metadata": {
            "tags": []
          },
          "execution_count": 19
        }
      ]
    },
    {
      "cell_type": "code",
      "metadata": {
        "id": "yWDrtZ-YI_lj",
        "colab_type": "code",
        "colab": {}
      },
      "source": [
        "plot_trends(df_train_store,'Sales')"
      ],
      "execution_count": null,
      "outputs": []
    },
    {
      "cell_type": "markdown",
      "metadata": {
        "id": "02-az5m8otDH",
        "colab_type": "text"
      },
      "source": [
        "**Store Type Analysis**"
      ]
    },
    {
      "cell_type": "markdown",
      "metadata": {
        "id": "vzSct56co6Ww",
        "colab_type": "text"
      },
      "source": [
        "for well analyzing the stores we need to find the sales per customers,\n",
        " and see which one makes use of its customers to spend the most on average"
      ]
    },
    {
      "cell_type": "code",
      "metadata": {
        "id": "Gr67qaH3niIc",
        "colab_type": "code",
        "colab": {}
      },
      "source": [
        "#defining a sales per customer feature\n",
        "df_train_store['SalesperCustomer']=df_train_store['Sales']/df_train_store['Customers']"
      ],
      "execution_count": 12,
      "outputs": []
    },
    {
      "cell_type": "code",
      "metadata": {
        "id": "sdFpYI_xmhxU",
        "colab_type": "code",
        "colab": {
          "base_uri": "https://localhost:8080/",
          "height": 623
        },
        "outputId": "f69e65cb-6623-4455-a623-6fb76cadfff2"
      },
      "source": [
        "#visualizing store information for analysis\n",
        "\n",
        "fig, axes = plt.subplots(2, 3,figsize=(17,10) )\n",
        "palette = itertools.cycle(sns.color_palette(n_colors=4))\n",
        "plt.subplots_adjust(hspace = 0.28)\n",
        "\n",
        "axes[0,0].bar(store.groupby(by=\"StoreType\").count().Store.index,store.groupby(by=\"StoreType\").count().Store,color=[next(palette),next(palette),next(palette),next(palette)])\n",
        "axes[0,0].set_title(\"Number of Stores per Store Type \\n Fig 1.1\")\n",
        "axes[0,1].bar(df_train_store.groupby(by=\"StoreType\").sum().Sales.index,df_train_store.groupby(by=\"StoreType\").sum().Sales/1e9,color=[next(palette),next(palette),next(palette),next(palette)])\n",
        "axes[0,1].set_title(\"Total Sales per Store Type (in Billions) \\n Fig 1.2\")\n",
        "axes[0,2].bar(df_train_store.groupby(by=\"StoreType\").sum().Customers.index,df_train_store.groupby(by=\"StoreType\").sum().Customers/1e6,color=[next(palette),next(palette),next(palette),next(palette)])\n",
        "axes[0,2].set_title(\"Total Number of Customers per Store Type (in Millions) \\n Fig 1.3\")\n",
        "axes[1,0].bar(df_train_store.groupby(by=\"StoreType\").sum().Customers.index,df_train_store.groupby(by=\"StoreType\").Sales.mean(),color=[next(palette),next(palette),next(palette),next(palette)])\n",
        "axes[1,0].set_title(\"Average Sales per Store Type \\n Fig 1.4\")\n",
        "axes[1,1].bar(df_train_store.groupby(by=\"StoreType\").sum().Customers.index,df_train_store.groupby(by=\"StoreType\").Customers.mean(),color=[next(palette),next(palette),next(palette),next(palette)])\n",
        "axes[1,1].set_title(\"Average Number of Customers per Store Type \\n Fig 1.5\")\n",
        "axes[1,2].bar(df_train_store.groupby(by=\"StoreType\").sum().Sales.index,df_train_store.groupby(by=\"StoreType\").SalesperCustomer.mean(),color=[next(palette),next(palette),next(palette),next(palette)])\n",
        "axes[1,2].set_title(\"Average Spending per Customer in each Store Type \\n Fig 1.6\")\n",
        "plt.show()\n"
      ],
      "execution_count": null,
      "outputs": [
        {
          "output_type": "display_data",
          "data": {
            "image/png": "[encoded data removed]",
            "text/plain": [
              "<Figure size 1224x720 with 6 Axes>"
            ]
          },
          "metadata": {
            "tags": [],
            "needs_background": "light"
          }
        }
      ]
    },
    {
      "cell_type": "markdown",
      "metadata": {
        "id": "Xx7dfRf-qJqh",
        "colab_type": "text"
      },
      "source": [
        "**Findings**\n",
        "\n",
        "1. From these above graphs we can see that the the store type **a** has leads other stores in terms of branches, Sales and Customers.\n",
        "\n",
        "2. Although Store **b** has few branches, it experienced a big average of average sales and customers.\n",
        "\n",
        "3. Suprisingly store **d** is the one which saw the highest average spending\n",
        " on customers, means the customers buy many items may be because there is no other shops which sells similar items(long distance to the competitors)"
      ]
    },
    {
      "cell_type": "markdown",
      "metadata": {
        "id": "4YjwxYfHuf3r",
        "colab_type": "text"
      },
      "source": [
        "**Assortments Analysis**\n",
        "Intersted in finding the store type with its assortments"
      ]
    },
    {
      "cell_type": "code",
      "metadata": {
        "id": "HVrwWYzWtWNd",
        "colab_type": "code",
        "colab": {
          "base_uri": "https://localhost:8080/",
          "height": 482
        },
        "outputId": "fabd2b61-7dd8-46bf-f0e6-9a8ba9210b59"
      },
      "source": [
        "StoretypeXAssortment = sns.countplot(x=\"StoreType\",hue=\"Assortment\",order=\n",
        "                                     [\"a\",\"b\",\"c\",\"d\"], data=store,palette=sns.color_palette(\"Set2\", n_colors\n",
        "                                      =3)).set_title(\"Number of Different Assortments per Store Type\")\n",
        "store.groupby(by=[\"StoreType\",\"Assortment\"]).Assortment.count()"
      ],
      "execution_count": null,
      "outputs": [
        {
          "output_type": "execute_result",
          "data": {
            "text/plain": [
              "StoreType  Assortment\n",
              "a          a             381\n",
              "           c             221\n",
              "b          a               7\n",
              "           b               9\n",
              "           c               1\n",
              "c          a              77\n",
              "           c              71\n",
              "d          a             128\n",
              "           c             220\n",
              "Name: Assortment, dtype: int64"
            ]
          },
          "metadata": {
            "tags": []
          },
          "execution_count": 26
        },
        {
          "output_type": "display_data",
          "data": {
            "image/png": "[encoded data removed]",
            "text/plain": [
              "<Figure size 432x288 with 1 Axes>"
            ]
          },
          "metadata": {
            "tags": [],
            "needs_background": "light"
          }
        }
      ]
    },
    {
      "cell_type": "markdown",
      "metadata": {
        "id": "gHT9z0Q8vzYh",
        "colab_type": "text"
      },
      "source": [
        "**Findings** \n",
        "\n",
        "1.From the above graph we can clearly se that many stores are in assortment **a**\n",
        "and **c** (basic and extended things).\n",
        "\n",
        "2. Captivatingly the store type **d** which has the highest customer spendings\n",
        "saw a highest **c** (extended things) assortment. this is most probably the reason of high customer spendings.\n",
        "\n",
        "3. Lastly the store type **b** is the only one which saw all the 3 assortment **b** which means extra."
      ]
    },
    {
      "cell_type": "markdown",
      "metadata": {
        "id": "3mXquusjzSql",
        "colab_type": "text"
      },
      "source": [
        "**Promotion.**\n",
        " Interested in seeing how promotions affected sales over three years.\n",
        "This allow us first to see the impact of promotion and as well to see the evolution of sales over specific years (so trends in a given year).\n"
      ]
    },
    {
      "cell_type": "code",
      "metadata": {
        "id": "QmvyA6Zuwdy-",
        "colab_type": "code",
        "colab": {}
      },
      "source": [
        "#change the date column to datetime format and extract from it month and year\n",
        "df_train_store['Date'] = pd.to_datetime(df_train_store['Date'], infer_datetime_format=True) \n",
        "df_train_store['Month']=df_train_store.Date.dt.month\n",
        "df_train_store['Year']=df_train_store.Date.dt.year\n"
      ],
      "execution_count": 13,
      "outputs": []
    },
    {
      "cell_type": "code",
      "metadata": {
        "id": "yrkRH10e1erl",
        "colab_type": "code",
        "colab": {
          "base_uri": "https://localhost:8080/",
          "height": 1000
        },
        "outputId": "9d6c91f2-e987-49ae-db5d-9b19b054388d"
      },
      "source": [
        "sns.factorplot(data = df_train_store, x =\"Month\", y = \"Sales\", \n",
        "               col = 'Promo', # per store type in cols\n",
        "               hue = 'Promo2',\n",
        "               row = \"Year\"\n",
        "              ,sharex=False)"
      ],
      "execution_count": null,
      "outputs": [
        {
          "output_type": "stream",
          "text": [
            "/usr/local/lib/python3.6/dist-packages/seaborn/categorical.py:3666: UserWarning: The `factorplot` function has been renamed to `catplot`. The original name will be removed in a future release. Please update your code. Note that the default `kind` in `factorplot` (`'point'`) has changed `'strip'` in `catplot`.\n",
            "  warnings.warn(msg)\n"
          ],
          "name": "stderr"
        },
        {
          "output_type": "execute_result",
          "data": {
            "text/plain": [
              "<seaborn.axisgrid.FacetGrid at 0x7f00b0b012e8>"
            ]
          },
          "metadata": {
            "tags": []
          },
          "execution_count": 34
        },
        {
          "output_type": "display_data",
          "data": {
            "image/png": "[encoded data removed]",
            "text/plain": [
              "<Figure size 765.75x1080 with 6 Axes>"
            ]
          },
          "metadata": {
            "tags": [],
            "needs_background": "light"
          }
        }
      ]
    },
    {
      "cell_type": "code",
      "metadata": {
        "id": "_avVRC_t2lpk",
        "colab_type": "code",
        "colab": {
          "base_uri": "https://localhost:8080/",
          "height": 1000
        },
        "outputId": "7427ace1-92e4-498f-e39d-9c9a81be7dd2"
      },
      "source": [
        "sns.factorplot(data = df_train_store, x =\"Month\", y = \"SalesperCustomer\", \n",
        "               col = 'Promo', # per store type in cols\n",
        "               hue = 'Promo2',\n",
        "               row = \"Year\"\n",
        "              ,sharex=False)"
      ],
      "execution_count": null,
      "outputs": [
        {
          "output_type": "stream",
          "text": [
            "/usr/local/lib/python3.6/dist-packages/seaborn/categorical.py:3666: UserWarning: The `factorplot` function has been renamed to `catplot`. The original name will be removed in a future release. Please update your code. Note that the default `kind` in `factorplot` (`'point'`) has changed `'strip'` in `catplot`.\n",
            "  warnings.warn(msg)\n"
          ],
          "name": "stderr"
        },
        {
          "output_type": "execute_result",
          "data": {
            "text/plain": [
              "<seaborn.axisgrid.FacetGrid at 0x7f00a664bd68>"
            ]
          },
          "metadata": {
            "tags": []
          },
          "execution_count": 35
        },
        {
          "output_type": "display_data",
          "data": {
            "image/png": "[encoded data removed]",
            "text/plain": [
              "<Figure size 765.75x1080 with 6 Axes>"
            ]
          },
          "metadata": {
            "tags": [],
            "needs_background": "light"
          }
        }
      ]
    },
    {
      "cell_type": "markdown",
      "metadata": {
        "id": "658qp2Fv3s7Z",
        "colab_type": "text"
      },
      "source": [
        "**Findings:**\n",
        "\n",
        "1.We see the dramatic change when we compare having promotion Promo=1 to not having promotion Promo=0 and can conclude that a store that have promotion on a given day changes its amount of sales considerably.\n",
        "\n",
        "2.Surprisingly, checking more  at the Promo2 variable (indicating a continuos promotion blue vs orange) we see that in general when there is no consecutive promotion stores tend to sell more then with consecutive promotion. \n",
        "\n",
        "3.If we look over the years,there is a slight increase Year over Year and we actually see a very similair pattern in the months over the years with major spikes first around Easter period in March and April then in Summer in May,June and July and then finally around the Christmas period in November and December."
      ]
    },
    {
      "cell_type": "code",
      "metadata": {
        "id": "qVMWBSzP4-hZ",
        "colab_type": "code",
        "colab": {
          "base_uri": "https://localhost:8080/",
          "height": 440
        },
        "outputId": "5be2827b-76f1-47d3-dca3-71d14402dfdf"
      },
      "source": [
        "#promotion impact in weekdays\n",
        "sns.factorplot(data = df_train_store, x =\"DayOfWeek\", y = \"Sales\",\n",
        "                hue='Promo'\n",
        "              ,sharex=False)"
      ],
      "execution_count": null,
      "outputs": [
        {
          "output_type": "stream",
          "text": [
            "/usr/local/lib/python3.6/dist-packages/seaborn/categorical.py:3666: UserWarning: The `factorplot` function has been renamed to `catplot`. The original name will be removed in a future release. Please update your code. Note that the default `kind` in `factorplot` (`'point'`) has changed `'strip'` in `catplot`.\n",
            "  warnings.warn(msg)\n"
          ],
          "name": "stderr"
        },
        {
          "output_type": "execute_result",
          "data": {
            "text/plain": [
              "<seaborn.axisgrid.FacetGrid at 0x7f00a2eb7dd8>"
            ]
          },
          "metadata": {
            "tags": []
          },
          "execution_count": 36
        },
        {
          "output_type": "display_data",
          "data": {
            "image/png": "[encoded data removed]",
            "text/plain": [
              "<Figure size 402.375x360 with 1 Axes>"
            ]
          },
          "metadata": {
            "tags": [],
            "needs_background": "light"
          }
        }
      ]
    },
    {
      "cell_type": "markdown",
      "metadata": {
        "id": "AH5AroRPmy3A",
        "colab_type": "text"
      },
      "source": [
        "From the above graph we can see that the promotions reach the highest peak on mondays which leads to the high sales and ends before the weekend starts(no promotions in weekends).\n",
        " Also there is a highest peak of sales on sundays because few stores are open and sells a lot."
      ]
    },
    {
      "cell_type": "markdown",
      "metadata": {
        "id": "HMYul3XX5W8v",
        "colab_type": "text"
      },
      "source": [
        "After attempting to look at Sales behaviour in a week over the Years and over the months, i concluded that the pattern doesn't change, which means all the time there is a peak on Mondays with promotions, a tiny peak on Friday before the weekend and a big peak on Sunday because of closed stores."
      ]
    },
    {
      "cell_type": "markdown",
      "metadata": {
        "id": "pYGFUHURE-cB",
        "colab_type": "text"
      },
      "source": [
        "**Competition Distance**"
      ]
    },
    {
      "cell_type": "code",
      "metadata": {
        "id": "VKEM9NQ0FEt1",
        "colab_type": "code",
        "colab": {
          "base_uri": "https://localhost:8080/",
          "height": 204
        },
        "outputId": "ebbf7512-38c0-4d51-bc6d-733f746bd572"
      },
      "source": [
        "dist_sales = df_train_store[['Sales', 'CompetitionDistance']]\n",
        "dist_sales = dist_sales.sort_values(by= 'CompetitionDistance')\n",
        "dist_sales.head()"
      ],
      "execution_count": 86,
      "outputs": [
        {
          "output_type": "execute_result",
          "data": {
            "text/html": [
              "<div>\n",
              "<style scoped>\n",
              "    .dataframe tbody tr th:only-of-type {\n",
              "        vertical-align: middle;\n",
              "    }\n",
              "\n",
              "    .dataframe tbody tr th {\n",
              "        vertical-align: top;\n",
              "    }\n",
              "\n",
              "    .dataframe thead th {\n",
              "        text-align: right;\n",
              "    }\n",
              "</style>\n",
              "<table border=\"1\" class=\"dataframe\">\n",
              "  <thead>\n",
              "    <tr style=\"text-align: right;\">\n",
              "      <th></th>\n",
              "      <th>Sales</th>\n",
              "      <th>CompetitionDistance</th>\n",
              "    </tr>\n",
              "  </thead>\n",
              "  <tbody>\n",
              "    <tr>\n",
              "      <th>528238</th>\n",
              "      <td>7065</td>\n",
              "      <td>20.0</td>\n",
              "    </tr>\n",
              "    <tr>\n",
              "      <th>580011</th>\n",
              "      <td>4451</td>\n",
              "      <td>20.0</td>\n",
              "    </tr>\n",
              "    <tr>\n",
              "      <th>320656</th>\n",
              "      <td>4075</td>\n",
              "      <td>20.0</td>\n",
              "    </tr>\n",
              "    <tr>\n",
              "      <th>161079</th>\n",
              "      <td>4838</td>\n",
              "      <td>20.0</td>\n",
              "    </tr>\n",
              "    <tr>\n",
              "      <th>470412</th>\n",
              "      <td>3858</td>\n",
              "      <td>20.0</td>\n",
              "    </tr>\n",
              "  </tbody>\n",
              "</table>\n",
              "</div>"
            ],
            "text/plain": [
              "        Sales  CompetitionDistance\n",
              "528238   7065                 20.0\n",
              "580011   4451                 20.0\n",
              "320656   4075                 20.0\n",
              "161079   4838                 20.0\n",
              "470412   3858                 20.0"
            ]
          },
          "metadata": {
            "tags": []
          },
          "execution_count": 86
        }
      ]
    },
    {
      "cell_type": "code",
      "metadata": {
        "id": "_NSAiRPdFN1h",
        "colab_type": "code",
        "colab": {
          "base_uri": "https://localhost:8080/",
          "height": 504
        },
        "outputId": "0f9cbcd7-8ad6-4813-b471-2dd74870d5b5"
      },
      "source": [
        "#correlation between sales and distance to store competitor\n",
        "corr1=dist_sales[['Sales', 'CompetitionDistance']].corr()\n",
        "f, ax = plt.subplots(figsize=(15, 8))\n",
        "sns.heatmap(corr1,annot=True,\n",
        "            xticklabels=corr1.columns.values,\n",
        "            yticklabels=corr1.columns.values)"
      ],
      "execution_count": 87,
      "outputs": [
        {
          "output_type": "execute_result",
          "data": {
            "text/plain": [
              "<matplotlib.axes._subplots.AxesSubplot at 0x7f2570ab6a20>"
            ]
          },
          "metadata": {
            "tags": []
          },
          "execution_count": 87
        },
        {
          "output_type": "display_data",
          "data": {
            "image/png": "[encoded data removed]",
            "text/plain": [
              "<Figure size 1080x576 with 2 Axes>"
            ]
          },
          "metadata": {
            "tags": [],
            "needs_background": "light"
          }
        }
      ]
    },
    {
      "cell_type": "markdown",
      "metadata": {
        "id": "gfWY2gpKGIsv",
        "colab_type": "text"
      },
      "source": [
        "Clearly there is a strong positive  correlation between store sales and distance to its competitor. The longer the distance the bigger the sales."
      ]
    },
    {
      "cell_type": "code",
      "metadata": {
        "id": "R5-_EYk75gui",
        "colab_type": "code",
        "colab": {}
      },
      "source": [
        "#extracting day  from the data column\n",
        "df_train_store['Day']=df_train_store.Date.dt.day\n"
      ],
      "execution_count": 14,
      "outputs": []
    },
    {
      "cell_type": "code",
      "metadata": {
        "id": "AR6Wm5a46IbC",
        "colab_type": "code",
        "colab": {}
      },
      "source": [
        "#deleting date column as we hawe month, year and day from it\n",
        "del df_train_store[\"Date\"]"
      ],
      "execution_count": 15,
      "outputs": []
    },
    {
      "cell_type": "markdown",
      "metadata": {
        "id": "l-W_cLuk62Ib",
        "colab_type": "text"
      },
      "source": [
        "Changing some object columns to numerical categories b first making sure there are no Nan values from them."
      ]
    },
    {
      "cell_type": "code",
      "metadata": {
        "id": "gNAey_836Z4D",
        "colab_type": "code",
        "colab": {
          "base_uri": "https://localhost:8080/",
          "height": 34
        },
        "outputId": "07d04e9c-0696-4372-8e4b-5ff4b09ebd8d"
      },
      "source": [
        "#making sure there are no NAN values\n",
        "df_train_store['StoreType'].isnull().any(),df_train_store['Assortment'].isnull().any(),df_train_store['StateHoliday'].isnull().any()\n",
        "#No Null values we can proceed with the transformation"
      ],
      "execution_count": null,
      "outputs": [
        {
          "output_type": "execute_result",
          "data": {
            "text/plain": [
              "(False, False, False)"
            ]
          },
          "metadata": {
            "tags": []
          },
          "execution_count": 39
        }
      ]
    },
    {
      "cell_type": "code",
      "metadata": {
        "id": "FF6uWVeZ6bA5",
        "colab_type": "code",
        "colab": {}
      },
      "source": [
        "df_train_store['StateHoliday'] = df_train_store['StateHoliday'].astype('category')\n",
        "df_train_store['Assortment'] = df_train_store['Assortment'].astype('category')\n",
        "df_train_store['StoreType'] = df_train_store['StoreType'].astype('category')\n",
        "df_train_store['PromoInterval']= df_train_store['PromoInterval'].astype('category')"
      ],
      "execution_count": 16,
      "outputs": []
    },
    {
      "cell_type": "code",
      "metadata": {
        "id": "_9lx6e0v6b2N",
        "colab_type": "code",
        "colab": {}
      },
      "source": [
        "df_train_store['StateHoliday_cat'] = df_train_store['StateHoliday'].cat.codes\n",
        "df_train_store['Assortment_cat'] = df_train_store['Assortment'].cat.codes\n",
        "df_train_store['StoreType_cat'] = df_train_store['StoreType'].cat.codes\n",
        "df_train_store['PromoInterval_cat'] = df_train_store['PromoInterval'].cat.codes"
      ],
      "execution_count": 17,
      "outputs": []
    },
    {
      "cell_type": "code",
      "metadata": {
        "id": "Ssg9rAOZ8VWU",
        "colab_type": "code",
        "colab": {
          "base_uri": "https://localhost:8080/",
          "height": 459
        },
        "outputId": "6611e451-ea5f-4f6e-8391-5bbac8536bbc"
      },
      "source": [
        "df_train_store['StateHoliday_cat'] = df_train_store['StateHoliday_cat'].astype('float')\n",
        "df_train_store['Assortment_cat'] = df_train_store['Assortment_cat'].astype('float')\n",
        "df_train_store['StoreType_cat'] = df_train_store['StoreType_cat'].astype('float')\n",
        "df_train_store['PromoInterval_cat'] = df_train_store['PromoInterval_cat'].astype('float')\n",
        "df_train_store.dtypes"
      ],
      "execution_count": 18,
      "outputs": [
        {
          "output_type": "execute_result",
          "data": {
            "text/plain": [
              "Store                           int64\n",
              "DayOfWeek                       int64\n",
              "Sales                           int64\n",
              "Customers                       int64\n",
              "Open                            int64\n",
              "Promo                           int64\n",
              "StateHoliday                 category\n",
              "SchoolHoliday                   int64\n",
              "StoreType                    category\n",
              "Assortment                   category\n",
              "CompetitionDistance           float64\n",
              "CompetitionOpenSinceMonth     float64\n",
              "CompetitionOpenSinceYear      float64\n",
              "Promo2                          int64\n",
              "Promo2SinceWeek               float64\n",
              "Promo2SinceYear               float64\n",
              "PromoInterval                category\n",
              "SalesperCustomer              float64\n",
              "Month                           int64\n",
              "Year                            int64\n",
              "Day                             int64\n",
              "StateHoliday_cat              float64\n",
              "Assortment_cat                float64\n",
              "StoreType_cat                 float64\n",
              "PromoInterval_cat             float64\n",
              "dtype: object"
            ]
          },
          "metadata": {
            "tags": []
          },
          "execution_count": 18
        }
      ]
    },
    {
      "cell_type": "markdown",
      "metadata": {
        "id": "7M4s9WZ8_GlL",
        "colab_type": "text"
      },
      "source": [
        "**Training Random Forest Regressor**\n",
        "\n",
        " One of the advantages of Random forest runtimes is that, it is quite fast, and they are able to deal with unbalanced and missing data.\n"
      ]
    },
    {
      "cell_type": "markdown",
      "metadata": {
        "id": "WlNYh3fhAKXI",
        "colab_type": "text"
      },
      "source": [
        "**Some feature engineering**\n",
        "\n",
        "Since the competition variables CompetitionOpenSinceYear and CompetitonnOpenSinceMonth have the same  meaning, merging them into one variable  makes easier for the algorithm to understand the pattern and creates less branches and thus complex trees."
      ]
    },
    {
      "cell_type": "code",
      "metadata": {
        "id": "F8y5W3hMAest",
        "colab_type": "code",
        "colab": {}
      },
      "source": [
        "#Creating new column from the above two\n",
        "df_train_store['CompetitionOpenSince'] = np.where((df_train_store['CompetitionOpenSinceMonth']==0) & (df_train_store['CompetitionOpenSinceYear']==0) , \n",
        "                                                  0,(df_train_store.Month - df_train_store.CompetitionOpenSinceMonth) + \n",
        "                                                  (12 * (df_train_store.Year - df_train_store.CompetitionOpenSinceYear)) )"
      ],
      "execution_count": 19,
      "outputs": []
    },
    {
      "cell_type": "code",
      "metadata": {
        "id": "RT-XM5pT_uOg",
        "colab_type": "code",
        "colab": {}
      },
      "source": [
        "#now that CompetitionOpenSince is created \n",
        "#we can get rid of `CompetitionOpenSinceYear` and `CompeitionOpenSinceMonth`\n",
        "del df_train_store['CompetitionOpenSinceYear']\n",
        "del df_train_store['CompetitionOpenSinceMonth']"
      ],
      "execution_count": 20,
      "outputs": []
    },
    {
      "cell_type": "code",
      "metadata": {
        "id": "rgoW6zuZBVep",
        "colab_type": "code",
        "colab": {}
      },
      "source": [
        "#Changing stateholiday column to a binary variable\n",
        "df_train_store[\"is_holiday_state\"] = df_train_store['StateHoliday'].map({\"0\": 0, \"a\": 1, \"b\": 1, \"c\": 1})"
      ],
      "execution_count": 21,
      "outputs": []
    },
    {
      "cell_type": "code",
      "metadata": {
        "id": "XWnYXlDFBj3Q",
        "colab_type": "code",
        "colab": {}
      },
      "source": [
        "#getting rid of stateholiday variable\n",
        "del df_train_store['StateHoliday_cat']"
      ],
      "execution_count": 22,
      "outputs": []
    },
    {
      "cell_type": "code",
      "metadata": {
        "id": "cL7Y8MWBBk1K",
        "colab_type": "code",
        "colab": {}
      },
      "source": [
        "#changing categorical variables into dummies \n",
        "df_train_store=pd.get_dummies(df_train_store, columns=[\"Assortment\", \"StoreType\",\"PromoInterval\"],\n",
        "                              prefix=[\"is_Assortment\", \"is_StoreType\",\"is_PromoInteval\"])"
      ],
      "execution_count": 23,
      "outputs": []
    },
    {
      "cell_type": "code",
      "metadata": {
        "id": "CmHKM3bCC2hH",
        "colab_type": "code",
        "colab": {
          "base_uri": "https://localhost:8080/",
          "height": 170
        },
        "outputId": "6616918f-cb72-4d55-8bf2-4ab2cc86761e"
      },
      "source": [
        "\n",
        "del df_train_store['Assortment_cat']\n",
        "del df_train_store['StoreType_cat']\n",
        "del df_train_store['PromoInterval_cat']\n",
        "df_train_store.columns"
      ],
      "execution_count": 24,
      "outputs": [
        {
          "output_type": "execute_result",
          "data": {
            "text/plain": [
              "Index(['Store', 'DayOfWeek', 'Sales', 'Customers', 'Open', 'Promo',\n",
              "       'StateHoliday', 'SchoolHoliday', 'CompetitionDistance', 'Promo2',\n",
              "       'Promo2SinceWeek', 'Promo2SinceYear', 'SalesperCustomer', 'Month',\n",
              "       'Year', 'Day', 'CompetitionOpenSince', 'is_holiday_state',\n",
              "       'is_Assortment_a', 'is_Assortment_b', 'is_Assortment_c',\n",
              "       'is_StoreType_a', 'is_StoreType_b', 'is_StoreType_c', 'is_StoreType_d',\n",
              "       'is_PromoInteval_0', 'is_PromoInteval_Feb,May,Aug,Nov',\n",
              "       'is_PromoInteval_Jan,Apr,Jul,Oct', 'is_PromoInteval_Mar,Jun,Sept,Dec'],\n",
              "      dtype='object')"
            ]
          },
          "metadata": {
            "tags": []
          },
          "execution_count": 24
        }
      ]
    },
    {
      "cell_type": "code",
      "metadata": {
        "id": "VZrpcSaxH4kM",
        "colab_type": "code",
        "colab": {
          "base_uri": "https://localhost:8080/",
          "height": 34
        },
        "outputId": "9178470e-e4a9-4ea6-ac2e-0490b3d928dd"
      },
      "source": [
        "df_test.fillna(1, inplace = True)\n",
        "df_test_store = pd.merge(df_test, store, how = 'left', on = 'Store')\n",
        "print (\"The Test_Store dataset has {} Rows and {} Variables\".format(str(df_test_store.shape[0]),str(df_test_store.shape[1]))) \n",
        "\n",
        "#change the date column to datetime format and extract from it month and year\n",
        "df_test_store['Date'] = pd.to_datetime(df_test_store['Date'], infer_datetime_format=True)\n",
        "df_test_store['Month']=df_test_store.Date.dt.month\n",
        "df_test_store['Year']=df_test_store.Date.dt.year\n",
        "df_test_store['Day']=df_test_store.Date.dt.day\n",
        "\n",
        "df_test_store['StateHoliday'] = df_test_store['StateHoliday'].astype('category')\n",
        "df_test_store['Assortment'] = df_test_store['Assortment'].astype('category')\n",
        "df_test_store['StoreType'] = df_test_store['StoreType'].astype('category')\n",
        "df_test_store['PromoInterval']= df_test_store['PromoInterval'].astype('category')\n",
        "df_test_store['StateHoliday_cat'] = df_test_store['StateHoliday'].cat.codes\n",
        "df_test_store['Assortment_cat'] = df_test_store['Assortment'].cat.codes\n",
        "df_test_store['StoreType_cat'] = df_test_store['StoreType'].cat.codes\n",
        "df_test_store['PromoInterval_cat'] = df_test_store['PromoInterval'].cat.codes\n",
        "df_test_store['StateHoliday_cat'] = df_test_store['StateHoliday_cat'].astype('float')\n",
        "df_test_store['Assortment_cat'] = df_test_store['Assortment_cat'].astype('float')\n",
        "df_test_store['StoreType_cat'] = df_test_store['StoreType_cat'].astype('float')\n",
        "df_test_store['PromoInterval_cat'] = df_test_store['PromoInterval_cat'].astype('float')\n",
        "df_test_store['CompetitionOpenSince'] = np.where((df_test_store['CompetitionOpenSinceMonth']==0) & (df_test_store['CompetitionOpenSinceYear']==0) , 0,(df_test_store.Month - df_test_store.CompetitionOpenSinceMonth) + \n",
        "                                       (12 * (df_test_store.Year - df_test_store.CompetitionOpenSinceYear)) )\n",
        "\n",
        "\n",
        "\n",
        "df_test_store[\"is_holiday_state\"] = df_test_store['StateHoliday'].map({\"0\": 0, \"a\": 1, \"b\": 1, \"c\": 1})\n",
        "\n",
        "\n",
        "\n",
        "\n",
        "df_test_store=pd.get_dummies(df_test_store, columns=[\"Assortment\", \"StoreType\",\"PromoInterval\"], prefix=[\"is_Assortment\", \"is_StoreType\",\"is_PromoInteval\"])"
      ],
      "execution_count": 54,
      "outputs": [
        {
          "output_type": "stream",
          "text": [
            "The Test_Store dataset has 41088 Rows and 17 Variables\n"
          ],
          "name": "stdout"
        }
      ]
    },
    {
      "cell_type": "code",
      "metadata": {
        "id": "pyDn1iWuLVt9",
        "colab_type": "code",
        "colab": {}
      },
      "source": [
        "del df_test_store[\"Date\"]\n",
        "del df_test_store['CompetitionOpenSinceYear']\n",
        "del df_test_store['CompetitionOpenSinceMonth']\n",
        "del df_test_store['StateHoliday_cat']\n",
        "del df_test_store['Assortment_cat']\n",
        "del df_test_store['StoreType_cat']\n",
        "del df_test_store['PromoInterval_cat']\n",
        "del df_test_store['StateHoliday']\n",
        "del df_train_store['StateHoliday']"
      ],
      "execution_count": 26,
      "outputs": []
    },
    {
      "cell_type": "code",
      "metadata": {
        "id": "u7GGKqyyL5Xe",
        "colab_type": "code",
        "colab": {}
      },
      "source": [
        "def rmspe(y, yhat):\n",
        "    rmspe = np.sqrt(np.mean( (y - yhat)**2 ))\n",
        "    return rmspe"
      ],
      "execution_count": 27,
      "outputs": []
    },
    {
      "cell_type": "code",
      "metadata": {
        "id": "umKbXHidL7oT",
        "colab_type": "code",
        "colab": {}
      },
      "source": [
        "features = df_train_store.drop(['Customers', 'Sales', 'SalesperCustomer'], axis = 1) \n",
        "#a rule of thumb is to transform my target value to log if i see the values are very dispersed which is the case\n",
        "#and then of course revert them with np.exp to their real values\n",
        "targets=np.log(df_train_store.Sales)"
      ],
      "execution_count": 28,
      "outputs": []
    },
    {
      "cell_type": "code",
      "metadata": {
        "id": "O8aC81wsM-FN",
        "colab_type": "code",
        "colab": {
          "base_uri": "https://localhost:8080/",
          "height": 102
        },
        "outputId": "3c22e9c6-591c-447f-9a8a-d63a135e4e7c"
      },
      "source": [
        "X_train, X_train_test, y_train, y_train_test = model_selection.train_test_split(features, targets, test_size=0.20, random_state=15)\n",
        "#print (\"Training and testing split was successful.\")\n",
        "X_train.is_holiday_state.fillna(0,inplace=True)\n",
        "X_train_test.is_holiday_state.fillna(0,inplace=True)\n"
      ],
      "execution_count": 42,
      "outputs": [
        {
          "output_type": "stream",
          "text": [
            "/usr/local/lib/python3.6/dist-packages/pandas/core/generic.py:6245: SettingWithCopyWarning: \n",
            "A value is trying to be set on a copy of a slice from a DataFrame\n",
            "\n",
            "See the caveats in the documentation: https://pandas.pydata.org/pandas-docs/stable/user_guide/indexing.html#returning-a-view-versus-a-copy\n",
            "  self._update_inplace(new_data)\n"
          ],
          "name": "stderr"
        }
      ]
    },
    {
      "cell_type": "code",
      "metadata": {
        "id": "rR_2NB5lVCVE",
        "colab_type": "code",
        "colab": {
          "base_uri": "https://localhost:8080/",
          "height": 459
        },
        "outputId": "f0848530-1c36-48af-9a23-e7437eea8074"
      },
      "source": [
        " X_train_test.isna().sum()"
      ],
      "execution_count": 44,
      "outputs": [
        {
          "output_type": "execute_result",
          "data": {
            "text/plain": [
              "Store                               0\n",
              "DayOfWeek                           0\n",
              "Open                                0\n",
              "Promo                               0\n",
              "SchoolHoliday                       0\n",
              "CompetitionDistance                 0\n",
              "Promo2                              0\n",
              "Promo2SinceWeek                     0\n",
              "Promo2SinceYear                     0\n",
              "Month                               0\n",
              "Year                                0\n",
              "Day                                 0\n",
              "CompetitionOpenSince                0\n",
              "is_holiday_state                    0\n",
              "is_Assortment_a                     0\n",
              "is_Assortment_b                     0\n",
              "is_Assortment_c                     0\n",
              "is_StoreType_a                      0\n",
              "is_StoreType_b                      0\n",
              "is_StoreType_c                      0\n",
              "is_StoreType_d                      0\n",
              "is_PromoInteval_0                   0\n",
              "is_PromoInteval_Feb,May,Aug,Nov     0\n",
              "is_PromoInteval_Jan,Apr,Jul,Oct     0\n",
              "is_PromoInteval_Mar,Jun,Sept,Dec    0\n",
              "dtype: int64"
            ]
          },
          "metadata": {
            "tags": []
          },
          "execution_count": 44
        }
      ]
    },
    {
      "cell_type": "code",
      "metadata": {
        "id": "dahlVBkyNKli",
        "colab_type": "code",
        "colab": {
          "base_uri": "https://localhost:8080/",
          "height": 136
        },
        "outputId": "d93fdc97-2a02-43e4-f256-4d7a140989a5"
      },
      "source": [
        "rfr = RandomForestRegressor(n_estimators=10, \n",
        "                             criterion='mse', \n",
        "                             max_depth=5, \n",
        "                             min_samples_split=2, \n",
        "                             min_samples_leaf=1, \n",
        "                             min_weight_fraction_leaf=0.0, \n",
        "                             max_features='auto', \n",
        "                             max_leaf_nodes=None, \n",
        "                             min_impurity_decrease=0.0, \n",
        "                             min_impurity_split=None, \n",
        "                             bootstrap=True, \n",
        "                             oob_score=False,\n",
        "                             n_jobs=4,\n",
        "                             random_state=31, \n",
        "                             verbose=0, \n",
        "                             warm_start=False)\n",
        "rfr.fit(X_train, y_train)"
      ],
      "execution_count": 45,
      "outputs": [
        {
          "output_type": "execute_result",
          "data": {
            "text/plain": [
              "RandomForestRegressor(bootstrap=True, ccp_alpha=0.0, criterion='mse',\n",
              "                      max_depth=5, max_features='auto', max_leaf_nodes=None,\n",
              "                      max_samples=None, min_impurity_decrease=0.0,\n",
              "                      min_impurity_split=None, min_samples_leaf=1,\n",
              "                      min_samples_split=2, min_weight_fraction_leaf=0.0,\n",
              "                      n_estimators=10, n_jobs=4, oob_score=False,\n",
              "                      random_state=31, verbose=0, warm_start=False)"
            ]
          },
          "metadata": {
            "tags": []
          },
          "execution_count": 45
        }
      ]
    },
    {
      "cell_type": "code",
      "metadata": {
        "id": "6RievSg-NMti",
        "colab_type": "code",
        "colab": {}
      },
      "source": [
        "#training using cross validation set\n",
        "rfr_val=RandomForestRegressor(n_estimators=128, \n",
        "                             criterion='mse', \n",
        "                             max_depth=20, \n",
        "                             min_samples_split=10, \n",
        "                             min_samples_leaf=1, \n",
        "                             min_weight_fraction_leaf=0.0, \n",
        "                             max_features='auto', \n",
        "                             max_leaf_nodes=None, \n",
        "                             min_impurity_decrease=0.0, \n",
        "                             min_impurity_split=None, \n",
        "                             bootstrap=True, \n",
        "                             oob_score=False,\n",
        "                             n_jobs=4, #setting n_jobs to 4 makes sure you're using the full potential of the machine you're running the training on\n",
        "                             random_state=35, \n",
        "                             verbose=0, \n",
        "                             warm_start=False)\n",
        "model_RF_test=rfr_val.fit(X_train,y_train)"
      ],
      "execution_count": 46,
      "outputs": []
    },
    {
      "cell_type": "code",
      "metadata": {
        "id": "__wtiW4agspx",
        "colab_type": "code",
        "colab": {}
      },
      "source": [
        "yhat=model_RF_test.predict(X_train_test)"
      ],
      "execution_count": 47,
      "outputs": []
    },
    {
      "cell_type": "code",
      "metadata": {
        "id": "UdmZwPcHhB_H",
        "colab_type": "code",
        "colab": {
          "base_uri": "https://localhost:8080/",
          "height": 367
        },
        "outputId": "f5ef4703-5633-4200-b32f-402715eec472"
      },
      "source": [
        "plt.hist(yhat)"
      ],
      "execution_count": 48,
      "outputs": [
        {
          "output_type": "execute_result",
          "data": {
            "text/plain": [
              "(array([2.0000e+01, 2.3100e+02, 9.3200e+02, 5.9060e+03, 2.8602e+04,\n",
              "        7.3568e+04, 4.7568e+04, 1.0021e+04, 1.9310e+03, 8.9000e+01]),\n",
              " array([ 6.51439833,  6.91015948,  7.30592062,  7.70168176,  8.0974429 ,\n",
              "         8.49320404,  8.88896518,  9.28472632,  9.68048746, 10.0762486 ,\n",
              "        10.47200974]),\n",
              " <a list of 10 Patch objects>)"
            ]
          },
          "metadata": {
            "tags": []
          },
          "execution_count": 48
        },
        {
          "output_type": "display_data",
          "data": {
            "image/png": "[encoded data removed]",
            "text/plain": [
              "<Figure size 432x288 with 1 Axes>"
            ]
          },
          "metadata": {
            "tags": [],
            "needs_background": "light"
          }
        }
      ]
    },
    {
      "cell_type": "code",
      "metadata": {
        "id": "wggVAtuVhI6Y",
        "colab_type": "code",
        "colab": {
          "base_uri": "https://localhost:8080/",
          "height": 34
        },
        "outputId": "1382b748-b919-4f06-f095-74b52750c1c4"
      },
      "source": [
        "error=rmspe(y_train_test,yhat)\n",
        "error"
      ],
      "execution_count": 49,
      "outputs": [
        {
          "output_type": "execute_result",
          "data": {
            "text/plain": [
              "0.1611521960204134"
            ]
          },
          "metadata": {
            "tags": []
          },
          "execution_count": 49
        }
      ]
    },
    {
      "cell_type": "markdown",
      "metadata": {
        "id": "EQxW0ZJGhVKU",
        "colab_type": "text"
      },
      "source": [
        "0.16... is trustworthy to be sure about the predictions of our model."
      ]
    },
    {
      "cell_type": "markdown",
      "metadata": {
        "id": "LxjouVOQhs99",
        "colab_type": "text"
      },
      "source": [
        "**Feature Importance**"
      ]
    },
    {
      "cell_type": "code",
      "metadata": {
        "id": "PKkyJtVkhzre",
        "colab_type": "code",
        "colab": {
          "base_uri": "https://localhost:8080/",
          "height": 879
        },
        "outputId": "3f2ca013-a224-4d86-dc4f-854b1091ede8"
      },
      "source": [
        "importances = rfr_val.feature_importances_\n",
        "std = np.std([rfr_val.feature_importances_ for tree in rfr_val.estimators_],\n",
        "             axis=0)\n",
        "indices = np.argsort(importances)\n",
        "palette1 = itertools.cycle(sns.color_palette())\n",
        "# Store the feature ranking\n",
        "features_ranked=[]\n",
        "for f in range(X_train.shape[1]):\n",
        "    features_ranked.append(X_train.columns[indices[f]])\n",
        "# Plot the feature importances of the forest\n",
        "\n",
        "plt.figure(figsize=(10,15))\n",
        "plt.title(\"Feature importances\")\n",
        "plt.bar(range(X_train.shape[1]), importances[indices],\n",
        "            color=[next(palette1)], align=\"center\")\n",
        "plt.yticks(range(X_train.shape[1]), features_ranked)\n",
        "plt.ylabel('Features')\n",
        "plt.ylim([-1, X_train.shape[1]])\n",
        "plt.show()"
      ],
      "execution_count": 50,
      "outputs": [
        {
          "output_type": "display_data",
          "data": {
            "image/png": "[encoded data removed]",
            "text/plain": [
              "<Figure size 720x1080 with 1 Axes>"
            ]
          },
          "metadata": {
            "tags": [],
            "needs_background": "light"
          }
        }
      ]
    },
    {
      "cell_type": "markdown",
      "metadata": {
        "id": "KuDi1yLHmAgG",
        "colab_type": "text"
      },
      "source": [
        "**Findings**\n",
        "\n",
        "Our top 5 most important variables are:\n",
        "\n",
        "1-Competitor Distance: This indeed impacts a lot the sales of a store like we saw previously in our EDA,when competition is very far stores tend to sell a lot more.\n",
        "\n",
        "2-Promo: Promotion is primordial for a store to increase its sales, it allows price breaking and thus more customers intersted in buying.\n",
        "\n",
        "3-Store: The Store itself represents a unique identificator for the algorithm to recognise which store has what attributes and indeed better accounts for the forecasting of those same stores in a future timeline.\n",
        "\n",
        "4-CompetitionOpenSince: The merging of this variable paid out and allowed us to give more accurate predicitions of the sales based on the time of opening of those competitors.\n",
        "\n",
        "5-DayofWeek: during a week , the pattern varies a lot if it's a sunday or a monday for instance and each day in the week has his own attributes and properties that allow to know how much are we going to sell."
      ]
    },
    {
      "cell_type": "code",
      "metadata": {
        "id": "GpSx9qjEiJPx",
        "colab_type": "code",
        "colab": {
          "base_uri": "https://localhost:8080/",
          "height": 578
        },
        "outputId": "5e8dc1de-fa83-425b-a853-1b86149dfa43"
      },
      "source": [
        "#predicting on a test set\n",
        "df_test_store1 = df_test_store.drop(['Id', 'Date'],axis=1)\n",
        "df_test_store1.dtypes\n",
        "# yhat1= model_RF_test.predict(df_test_store1)\n",
        "\n",
        "# preds= pd.DataFrame({'Id': df_test_store['Id'], \n",
        "#                           'Sales': np.exp(yhat1)})"
      ],
      "execution_count": 71,
      "outputs": [
        {
          "output_type": "execute_result",
          "data": {
            "text/plain": [
              "Store                                  int64\n",
              "DayOfWeek                              int64\n",
              "Open                                 float64\n",
              "Promo                                  int64\n",
              "StateHoliday                        category\n",
              "SchoolHoliday                          int64\n",
              "CompetitionDistance                  float64\n",
              "CompetitionOpenSinceMonth            float64\n",
              "CompetitionOpenSinceYear             float64\n",
              "Promo2                                 int64\n",
              "Promo2SinceWeek                      float64\n",
              "Promo2SinceYear                      float64\n",
              "Month                                  int64\n",
              "Year                                   int64\n",
              "Day                                    int64\n",
              "StateHoliday_cat                     float64\n",
              "Assortment_cat                       float64\n",
              "StoreType_cat                        float64\n",
              "PromoInterval_cat                    float64\n",
              "CompetitionOpenSince                 float64\n",
              "is_holiday_state                    category\n",
              "is_Assortment_a                        uint8\n",
              "is_Assortment_b                        uint8\n",
              "is_Assortment_c                        uint8\n",
              "is_StoreType_a                         uint8\n",
              "is_StoreType_b                         uint8\n",
              "is_StoreType_c                         uint8\n",
              "is_StoreType_d                         uint8\n",
              "is_PromoInteval_0                      uint8\n",
              "is_PromoInteval_Feb,May,Aug,Nov        uint8\n",
              "is_PromoInteval_Jan,Apr,Jul,Oct        uint8\n",
              "is_PromoInteval_Mar,Jun,Sept,Dec       uint8\n",
              "dtype: object"
            ]
          },
          "metadata": {
            "tags": []
          },
          "execution_count": 71
        }
      ]
    },
    {
      "cell_type": "markdown",
      "metadata": {
        "id": "jNt-kU0yo0vr",
        "colab_type": "text"
      },
      "source": [
        " **Training XGboost Model**"
      ]
    },
    {
      "cell_type": "code",
      "metadata": {
        "id": "dSKSX_epoBZD",
        "colab_type": "code",
        "colab": {}
      },
      "source": [
        "xg_reg = xgb.XGBRegressor(objective ='reg:linear', colsample_bytree = 0.3, learning_rate = 0.1,\n",
        "                max_depth = 5, alpha = 10, n_estimators = 10)"
      ],
      "execution_count": 72,
      "outputs": []
    },
    {
      "cell_type": "code",
      "metadata": {
        "id": "LpkEV-lHpDkL",
        "colab_type": "code",
        "colab": {
          "base_uri": "https://localhost:8080/",
          "height": 153
        },
        "outputId": "1f99a624-8676-4836-9f01-fe2b09f40c54"
      },
      "source": [
        "xg_reg.fit(X_train,y_train)"
      ],
      "execution_count": 73,
      "outputs": [
        {
          "output_type": "stream",
          "text": [
            "[10:51:13] WARNING: /workspace/src/objective/regression_obj.cu:152: reg:linear is now deprecated in favor of reg:squarederror.\n"
          ],
          "name": "stdout"
        },
        {
          "output_type": "execute_result",
          "data": {
            "text/plain": [
              "XGBRegressor(alpha=10, base_score=0.5, booster='gbtree', colsample_bylevel=1,\n",
              "             colsample_bynode=1, colsample_bytree=0.3, gamma=0,\n",
              "             importance_type='gain', learning_rate=0.1, max_delta_step=0,\n",
              "             max_depth=5, min_child_weight=1, missing=None, n_estimators=10,\n",
              "             n_jobs=1, nthread=None, objective='reg:linear', random_state=0,\n",
              "             reg_alpha=0, reg_lambda=1, scale_pos_weight=1, seed=None,\n",
              "             silent=None, subsample=1, verbosity=1)"
            ]
          },
          "metadata": {
            "tags": []
          },
          "execution_count": 73
        }
      ]
    },
    {
      "cell_type": "code",
      "metadata": {
        "id": "xRlHhybbpge4",
        "colab_type": "code",
        "colab": {
          "base_uri": "https://localhost:8080/",
          "height": 369
        },
        "outputId": "9d308534-a091-4ae6-cdf6-71a2703ca398"
      },
      "source": [
        "#prediciting and plotting the predictions\n",
        "preds = xg_reg.predict(X_train_test)\n",
        "plt.hist(preds)"
      ],
      "execution_count": 75,
      "outputs": [
        {
          "output_type": "execute_result",
          "data": {
            "text/plain": [
              "(array([6.8900e+02, 1.7516e+04, 5.5008e+04, 6.7365e+04, 2.5936e+04,\n",
              "        1.6620e+03, 3.6700e+02, 1.9000e+02, 4.4000e+01, 9.1000e+01]),\n",
              " array([5.597694 , 5.686982 , 5.7762704, 5.865559 , 5.9548473, 6.0441356,\n",
              "        6.133424 , 6.222712 , 6.3120008, 6.401289 , 6.490577 ],\n",
              "       dtype=float32),\n",
              " <a list of 10 Patch objects>)"
            ]
          },
          "metadata": {
            "tags": []
          },
          "execution_count": 75
        },
        {
          "output_type": "display_data",
          "data": {
            "image/png": "[encoded data removed]",
            "text/plain": [
              "<Figure size 432x288 with 1 Axes>"
            ]
          },
          "metadata": {
            "tags": [],
            "needs_background": "light"
          }
        }
      ]
    },
    {
      "cell_type": "code",
      "metadata": {
        "id": "v0s2GftjyY-l",
        "colab_type": "code",
        "colab": {
          "base_uri": "https://localhost:8080/",
          "height": 34
        },
        "outputId": "3cd19c53-1b4a-48e4-a322-574a2c17f0f5"
      },
      "source": [
        "error1=rmspe(y_train_test,preds)\n",
        "error1"
      ],
      "execution_count": 76,
      "outputs": [
        {
          "output_type": "execute_result",
          "data": {
            "text/plain": [
              "2.9060216363762934"
            ]
          },
          "metadata": {
            "tags": []
          },
          "execution_count": 76
        }
      ]
    },
    {
      "cell_type": "code",
      "metadata": {
        "id": "RdNDfpAuyqeC",
        "colab_type": "code",
        "colab": {
          "base_uri": "https://localhost:8080/",
          "height": 893
        },
        "outputId": "5d153d66-47cc-43b3-82f4-661b07332a36"
      },
      "source": [
        "\n",
        "\n",
        "xgb.plot_importance(xg_reg)\n",
        "plt.rcParams['figure.figsize'] = [25, 25]\n",
        "plt.show()"
      ],
      "execution_count": 81,
      "outputs": [
        {
          "output_type": "display_data",
          "data": {
            "image/png": "[encoded data removed]",
            "text/plain": [
              "<Figure size 1080x1080 with 1 Axes>"
            ]
          },
          "metadata": {
            "tags": [],
            "needs_background": "light"
          }
        }
      ]
    },
    {
      "cell_type": "markdown",
      "metadata": {
        "id": "H9Z7Dzno0Bl-",
        "colab_type": "text"
      },
      "source": [
        " when looking the loss function of the two models it is \n",
        " Clearly seen that The Random regressor model perfom better with an error of **0.1611521960** whereas  XGBoost has a big error of **2.9060216363762934**. \n",
        "\n",
        "So I will save(serialize) the random forest regressor model for future predictions"
      ]
    },
    {
      "cell_type": "code",
      "metadata": {
        "id": "i9edKY5S1YOW",
        "colab_type": "code",
        "colab": {}
      },
      "source": [
        "import pickle\n",
        "#model saved in timestamp format\n",
        "filename = '21-8-2020-13-57.pkl'\n",
        "pickle.dump(rfr_val, open(filename, 'wb'))"
      ],
      "execution_count": 84,
      "outputs": []
    }
  ]
}